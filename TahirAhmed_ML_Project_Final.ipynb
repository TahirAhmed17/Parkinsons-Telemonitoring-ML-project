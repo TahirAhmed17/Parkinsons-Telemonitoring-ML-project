{
  "cells": [
    {
      "cell_type": "markdown",
      "source": [
        "# **Machine Learning Course Project Phase 3 - Final**"
      ],
      "metadata": {
        "id": "mvYD_u_z-S30"
      },
      "id": "mvYD_u_z-S30"
    },
    {
      "cell_type": "markdown",
      "source": [
        "**Tahir Ahmed -\n",
        "230200041**"
      ],
      "metadata": {
        "id": "YZUk05tL-cUz"
      },
      "id": "YZUk05tL-cUz"
    },
    {
      "cell_type": "code",
      "execution_count": 1,
      "id": "314b636d",
      "metadata": {
        "id": "314b636d"
      },
      "outputs": [],
      "source": [
        "import numpy as np\n",
        "import pandas as pd\n",
        "import matplotlib.pyplot as plt\n",
        "import seaborn as sns"
      ]
    },
    {
      "cell_type": "code",
      "execution_count": 2,
      "id": "a0887754",
      "metadata": {
        "id": "a0887754"
      },
      "outputs": [],
      "source": [
        "df_Parkinsons = pd.read_csv(\"/content/parkinsons_updrs.data\")"
      ]
    },
    {
      "cell_type": "code",
      "execution_count": 3,
      "id": "4ab09094",
      "metadata": {
        "colab": {
          "base_uri": "https://localhost:8080/"
        },
        "id": "4ab09094",
        "outputId": "9f12165e-4728-4397-a189-e350449b2f1e"
      },
      "outputs": [
        {
          "output_type": "stream",
          "name": "stdout",
          "text": [
            "\n",
            "Dataset Info:\n",
            "<class 'pandas.core.frame.DataFrame'>\n",
            "RangeIndex: 5875 entries, 0 to 5874\n",
            "Data columns (total 22 columns):\n",
            " #   Column         Non-Null Count  Dtype  \n",
            "---  ------         --------------  -----  \n",
            " 0   subject#       5875 non-null   int64  \n",
            " 1   age            5875 non-null   int64  \n",
            " 2   sex            5875 non-null   int64  \n",
            " 3   test_time      5875 non-null   float64\n",
            " 4   motor_UPDRS    5875 non-null   float64\n",
            " 5   total_UPDRS    5875 non-null   float64\n",
            " 6   Jitter(%)      5875 non-null   float64\n",
            " 7   Jitter(Abs)    5875 non-null   float64\n",
            " 8   Jitter:RAP     5875 non-null   float64\n",
            " 9   Jitter:PPQ5    5875 non-null   float64\n",
            " 10  Jitter:DDP     5875 non-null   float64\n",
            " 11  Shimmer        5875 non-null   float64\n",
            " 12  Shimmer(dB)    5875 non-null   float64\n",
            " 13  Shimmer:APQ3   5875 non-null   float64\n",
            " 14  Shimmer:APQ5   5875 non-null   float64\n",
            " 15  Shimmer:APQ11  5875 non-null   float64\n",
            " 16  Shimmer:DDA    5875 non-null   float64\n",
            " 17  NHR            5875 non-null   float64\n",
            " 18  HNR            5875 non-null   float64\n",
            " 19  RPDE           5875 non-null   float64\n",
            " 20  DFA            5875 non-null   float64\n",
            " 21  PPE            5875 non-null   float64\n",
            "dtypes: float64(19), int64(3)\n",
            "memory usage: 1009.9 KB\n"
          ]
        }
      ],
      "source": [
        "print(\"\\nDataset Info:\")\n",
        "df_Parkinsons.info()"
      ]
    },
    {
      "cell_type": "code",
      "execution_count": 4,
      "id": "8d2418c8",
      "metadata": {
        "colab": {
          "base_uri": "https://localhost:8080/"
        },
        "id": "8d2418c8",
        "outputId": "ea37e7a2-d725-4523-a581-7a0670f9448f"
      },
      "outputs": [
        {
          "output_type": "stream",
          "name": "stdout",
          "text": [
            "\n",
            "Missing Values:\n",
            "subject#         0\n",
            "age              0\n",
            "sex              0\n",
            "test_time        0\n",
            "motor_UPDRS      0\n",
            "total_UPDRS      0\n",
            "Jitter(%)        0\n",
            "Jitter(Abs)      0\n",
            "Jitter:RAP       0\n",
            "Jitter:PPQ5      0\n",
            "Jitter:DDP       0\n",
            "Shimmer          0\n",
            "Shimmer(dB)      0\n",
            "Shimmer:APQ3     0\n",
            "Shimmer:APQ5     0\n",
            "Shimmer:APQ11    0\n",
            "Shimmer:DDA      0\n",
            "NHR              0\n",
            "HNR              0\n",
            "RPDE             0\n",
            "DFA              0\n",
            "PPE              0\n",
            "dtype: int64\n"
          ]
        }
      ],
      "source": [
        "# checking for missing values\n",
        "print(\"\\nMissing Values:\")\n",
        "print(df_Parkinsons.isna().sum())"
      ]
    },
    {
      "cell_type": "code",
      "execution_count": 5,
      "id": "39167726",
      "metadata": {
        "id": "39167726"
      },
      "outputs": [],
      "source": [
        "target = 'total_UPDRS'\n",
        "X = df_Parkinsons.drop(columns='total_UPDRS')\n",
        "y = df_Parkinsons[target]"
      ]
    },
    {
      "cell_type": "markdown",
      "id": "3f81263a",
      "metadata": {
        "id": "3f81263a"
      },
      "source": [
        "Train-test split (80-20)"
      ]
    },
    {
      "cell_type": "code",
      "execution_count": 6,
      "id": "91403847",
      "metadata": {
        "id": "91403847"
      },
      "outputs": [],
      "source": [
        "from sklearn.model_selection import train_test_split\n",
        "\n",
        "X_train, X_test, y_train, y_test = train_test_split(X, y, test_size=0.2, random_state=42)"
      ]
    },
    {
      "cell_type": "code",
      "execution_count": 7,
      "id": "c8042ccf",
      "metadata": {
        "id": "c8042ccf"
      },
      "outputs": [],
      "source": [
        "from sklearn.preprocessing import StandardScaler\n",
        "scaler = StandardScaler()\n",
        "X_train_scaled = scaler.fit_transform(X_train)\n",
        "X_test_scaled = scaler.transform(X_test)"
      ]
    },
    {
      "cell_type": "code",
      "execution_count": 8,
      "id": "f14f3a43",
      "metadata": {
        "colab": {
          "base_uri": "https://localhost:8080/"
        },
        "id": "f14f3a43",
        "outputId": "b0c667b4-ca0b-49e1-c80c-8502dd5abf7c"
      },
      "outputs": [
        {
          "output_type": "stream",
          "name": "stdout",
          "text": [
            "\n",
            "Scaled Training Data Shape: (4700, 21)\n",
            "Scaled Test Data Shape: (1175, 21)\n"
          ]
        }
      ],
      "source": [
        "# Confirm scaling\n",
        "print(\"\\nScaled Training Data Shape:\", X_train_scaled.shape)\n",
        "print(\"Scaled Test Data Shape:\", X_test_scaled.shape)"
      ]
    },
    {
      "cell_type": "code",
      "execution_count": 9,
      "id": "ff0cbf7a",
      "metadata": {
        "colab": {
          "base_uri": "https://localhost:8080/",
          "height": 564
        },
        "id": "ff0cbf7a",
        "outputId": "b0d2f0fa-87bc-45f9-95df-e3a538b4d13a"
      },
      "outputs": [
        {
          "output_type": "display_data",
          "data": {
            "text/plain": [
              "<Figure size 800x600 with 1 Axes>"
            ],
            "image/png": "[encoded data removed]"
          },
          "metadata": {}
        }
      ],
      "source": [
        "fig, axes = plt.subplots(figsize=(8, 6))\n",
        "sns.violinplot(x=y, ax=axes, color='salmon')\n",
        "axes.set_title(\"Violin Plot of Total UPDRS\")\n",
        "plt.title(\"Distribution of Total UPDRS\")\n",
        "plt.show()"
      ]
    },
    {
      "cell_type": "markdown",
      "id": "67342015",
      "metadata": {
        "id": "67342015"
      },
      "source": [
        "# **Baseline Model - Linear Regression**"
      ]
    },
    {
      "cell_type": "code",
      "execution_count": null,
      "id": "45579135",
      "metadata": {
        "id": "45579135",
        "outputId": "cebdc9c0-9146-4460-e0d3-7f9f55b32917"
      },
      "outputs": [
        {
          "name": "stdout",
          "output_type": "stream",
          "text": [
            "R^2 score with scaling is:  0.913810791884122\n"
          ]
        }
      ],
      "source": [
        "from sklearn.linear_model import LinearRegression\n",
        "linearRegression_scaled = LinearRegression()\n",
        "linearRegression_scaled.fit(X_train_scaled, y_train)\n",
        "r2_Score_scaled = linearRegression_scaled.score(X_test_scaled, y_test)\n",
        "print(\"R^2 score with scaling is: \", r2_Score_scaled)"
      ]
    },
    {
      "cell_type": "markdown",
      "id": "3100f1dc",
      "metadata": {
        "id": "3100f1dc"
      },
      "source": [
        "# **SVM with RBF Kernel - Coarse Search**"
      ]
    },
    {
      "cell_type": "code",
      "execution_count": null,
      "id": "5b34208b",
      "metadata": {
        "id": "5b34208b",
        "outputId": "31e56c44-83ab-453f-ac53-f1a6215546c6"
      },
      "outputs": [
        {
          "name": "stdout",
          "output_type": "stream",
          "text": [
            "\n",
            "Running SVM (RBF Kernel) Coarse Hyperparameter Tuning...\n"
          ]
        }
      ],
      "source": [
        "from sklearn.svm import SVR\n",
        "from sklearn.model_selection import RandomizedSearchCV, GridSearchCV\n",
        "\n",
        "print(\"\\nRunning SVM (RBF Kernel) Coarse Hyperparameter Tuning...\")"
      ]
    },
    {
      "cell_type": "code",
      "execution_count": null,
      "id": "29ed05c8",
      "metadata": {
        "id": "29ed05c8"
      },
      "outputs": [],
      "source": [
        "svm_reg = SVR(kernel='rbf')\n",
        "hpt_rnd_svm_dict = {\n",
        "    'C': np.logspace(-3, 3, 10),\n",
        "    'gamma': np.logspace(-4, 1, 10)\n",
        "}"
      ]
    },
    {
      "cell_type": "code",
      "execution_count": null,
      "id": "575ffe00",
      "metadata": {
        "id": "575ffe00"
      },
      "outputs": [],
      "source": [
        "rnd_svm = RandomizedSearchCV(\n",
        "    estimator=svm_reg,\n",
        "    param_distributions=hpt_rnd_svm_dict,\n",
        "    cv=5,\n",
        "    n_iter=30,\n",
        "    n_jobs=-1,\n",
        "    verbose=1,\n",
        "    random_state=42\n",
        ")"
      ]
    },
    {
      "cell_type": "code",
      "execution_count": null,
      "id": "5bd5ec52",
      "metadata": {
        "id": "5bd5ec52",
        "outputId": "5600b2ca-3a3a-4293-ee7e-83b6b71d1568"
      },
      "outputs": [
        {
          "name": "stdout",
          "output_type": "stream",
          "text": [
            "Fitting 5 folds for each of 30 candidates, totalling 150 fits\n"
          ]
        },
        {
          "data": {
            "text/html": [
              "<style>#sk-container-id-8 {color: black;}#sk-container-id-8 pre{padding: 0;}#sk-container-id-8 div.sk-toggleable {background-color: white;}#sk-container-id-8 label.sk-toggleable__label {cursor: pointer;display: block;width: 100%;margin-bottom: 0;padding: 0.3em;box-sizing: border-box;text-align: center;}#sk-container-id-8 label.sk-toggleable__label-arrow:before {content: \"▸\";float: left;margin-right: 0.25em;color: #696969;}#sk-container-id-8 label.sk-toggleable__label-arrow:hover:before {color: black;}#sk-container-id-8 div.sk-estimator:hover label.sk-toggleable__label-arrow:before {color: black;}#sk-container-id-8 div.sk-toggleable__content {max-height: 0;max-width: 0;overflow: hidden;text-align: left;background-color: #f0f8ff;}#sk-container-id-8 div.sk-toggleable__content pre {margin: 0.2em;color: black;border-radius: 0.25em;background-color: #f0f8ff;}#sk-container-id-8 input.sk-toggleable__control:checked~div.sk-toggleable__content {max-height: 200px;max-width: 100%;overflow: auto;}#sk-container-id-8 input.sk-toggleable__control:checked~label.sk-toggleable__label-arrow:before {content: \"▾\";}#sk-container-id-8 div.sk-estimator input.sk-toggleable__control:checked~label.sk-toggleable__label {background-color: #d4ebff;}#sk-container-id-8 div.sk-label input.sk-toggleable__control:checked~label.sk-toggleable__label {background-color: #d4ebff;}#sk-container-id-8 input.sk-hidden--visually {border: 0;clip: rect(1px 1px 1px 1px);clip: rect(1px, 1px, 1px, 1px);height: 1px;margin: -1px;overflow: hidden;padding: 0;position: absolute;width: 1px;}#sk-container-id-8 div.sk-estimator {font-family: monospace;background-color: #f0f8ff;border: 1px dotted black;border-radius: 0.25em;box-sizing: border-box;margin-bottom: 0.5em;}#sk-container-id-8 div.sk-estimator:hover {background-color: #d4ebff;}#sk-container-id-8 div.sk-parallel-item::after {content: \"\";width: 100%;border-bottom: 1px solid gray;flex-grow: 1;}#sk-container-id-8 div.sk-label:hover label.sk-toggleable__label {background-color: #d4ebff;}#sk-container-id-8 div.sk-serial::before {content: \"\";position: absolute;border-left: 1px solid gray;box-sizing: border-box;top: 0;bottom: 0;left: 50%;z-index: 0;}#sk-container-id-8 div.sk-serial {display: flex;flex-direction: column;align-items: center;background-color: white;padding-right: 0.2em;padding-left: 0.2em;position: relative;}#sk-container-id-8 div.sk-item {position: relative;z-index: 1;}#sk-container-id-8 div.sk-parallel {display: flex;align-items: stretch;justify-content: center;background-color: white;position: relative;}#sk-container-id-8 div.sk-item::before, #sk-container-id-8 div.sk-parallel-item::before {content: \"\";position: absolute;border-left: 1px solid gray;box-sizing: border-box;top: 0;bottom: 0;left: 50%;z-index: -1;}#sk-container-id-8 div.sk-parallel-item {display: flex;flex-direction: column;z-index: 1;position: relative;background-color: white;}#sk-container-id-8 div.sk-parallel-item:first-child::after {align-self: flex-end;width: 50%;}#sk-container-id-8 div.sk-parallel-item:last-child::after {align-self: flex-start;width: 50%;}#sk-container-id-8 div.sk-parallel-item:only-child::after {width: 0;}#sk-container-id-8 div.sk-dashed-wrapped {border: 1px dashed gray;margin: 0 0.4em 0.5em 0.4em;box-sizing: border-box;padding-bottom: 0.4em;background-color: white;}#sk-container-id-8 div.sk-label label {font-family: monospace;font-weight: bold;display: inline-block;line-height: 1.2em;}#sk-container-id-8 div.sk-label-container {text-align: center;}#sk-container-id-8 div.sk-container {/* jupyter's `normalize.less` sets `[hidden] { display: none; }` but bootstrap.min.css set `[hidden] { display: none !important; }` so we also need the `!important` here to be able to override the default hidden behavior on the sphinx rendered scikit-learn.org. See: https://github.com/scikit-learn/scikit-learn/issues/21755 */display: inline-block !important;position: relative;}#sk-container-id-8 div.sk-text-repr-fallback {display: none;}</style><div id=\"sk-container-id-8\" class=\"sk-top-container\"><div class=\"sk-text-repr-fallback\"><pre>RandomizedSearchCV(cv=5, estimator=SVR(), n_iter=30, n_jobs=-1,\n",
              "                   param_distributions={&#x27;C&#x27;: array([1.00000000e-03, 4.64158883e-03, 2.15443469e-02, 1.00000000e-01,\n",
              "       4.64158883e-01, 2.15443469e+00, 1.00000000e+01, 4.64158883e+01,\n",
              "       2.15443469e+02, 1.00000000e+03]),\n",
              "                                        &#x27;gamma&#x27;: array([1.00000000e-04, 3.59381366e-04, 1.29154967e-03, 4.64158883e-03,\n",
              "       1.66810054e-02, 5.99484250e-02, 2.15443469e-01, 7.74263683e-01,\n",
              "       2.78255940e+00, 1.00000000e+01])},\n",
              "                   random_state=42, verbose=1)</pre><b>In a Jupyter environment, please rerun this cell to show the HTML representation or trust the notebook. <br />On GitHub, the HTML representation is unable to render, please try loading this page with nbviewer.org.</b></div><div class=\"sk-container\" hidden><div class=\"sk-item sk-dashed-wrapped\"><div class=\"sk-label-container\"><div class=\"sk-label sk-toggleable\"><input class=\"sk-toggleable__control sk-hidden--visually\" id=\"sk-estimator-id-22\" type=\"checkbox\" ><label for=\"sk-estimator-id-22\" class=\"sk-toggleable__label sk-toggleable__label-arrow\">RandomizedSearchCV</label><div class=\"sk-toggleable__content\"><pre>RandomizedSearchCV(cv=5, estimator=SVR(), n_iter=30, n_jobs=-1,\n",
              "                   param_distributions={&#x27;C&#x27;: array([1.00000000e-03, 4.64158883e-03, 2.15443469e-02, 1.00000000e-01,\n",
              "       4.64158883e-01, 2.15443469e+00, 1.00000000e+01, 4.64158883e+01,\n",
              "       2.15443469e+02, 1.00000000e+03]),\n",
              "                                        &#x27;gamma&#x27;: array([1.00000000e-04, 3.59381366e-04, 1.29154967e-03, 4.64158883e-03,\n",
              "       1.66810054e-02, 5.99484250e-02, 2.15443469e-01, 7.74263683e-01,\n",
              "       2.78255940e+00, 1.00000000e+01])},\n",
              "                   random_state=42, verbose=1)</pre></div></div></div><div class=\"sk-parallel\"><div class=\"sk-parallel-item\"><div class=\"sk-item\"><div class=\"sk-label-container\"><div class=\"sk-label sk-toggleable\"><input class=\"sk-toggleable__control sk-hidden--visually\" id=\"sk-estimator-id-23\" type=\"checkbox\" ><label for=\"sk-estimator-id-23\" class=\"sk-toggleable__label sk-toggleable__label-arrow\">estimator: SVR</label><div class=\"sk-toggleable__content\"><pre>SVR()</pre></div></div></div><div class=\"sk-serial\"><div class=\"sk-item\"><div class=\"sk-estimator sk-toggleable\"><input class=\"sk-toggleable__control sk-hidden--visually\" id=\"sk-estimator-id-24\" type=\"checkbox\" ><label for=\"sk-estimator-id-24\" class=\"sk-toggleable__label sk-toggleable__label-arrow\">SVR</label><div class=\"sk-toggleable__content\"><pre>SVR()</pre></div></div></div></div></div></div></div></div></div></div>"
            ],
            "text/plain": [
              "RandomizedSearchCV(cv=5, estimator=SVR(), n_iter=30, n_jobs=-1,\n",
              "                   param_distributions={'C': array([1.00000000e-03, 4.64158883e-03, 2.15443469e-02, 1.00000000e-01,\n",
              "       4.64158883e-01, 2.15443469e+00, 1.00000000e+01, 4.64158883e+01,\n",
              "       2.15443469e+02, 1.00000000e+03]),\n",
              "                                        'gamma': array([1.00000000e-04, 3.59381366e-04, 1.29154967e-03, 4.64158883e-03,\n",
              "       1.66810054e-02, 5.99484250e-02, 2.15443469e-01, 7.74263683e-01,\n",
              "       2.78255940e+00, 1.00000000e+01])},\n",
              "                   random_state=42, verbose=1)"
            ]
          },
          "execution_count": 87,
          "metadata": {},
          "output_type": "execute_result"
        }
      ],
      "source": [
        "rnd_svm.fit(X_train_scaled, y_train)"
      ]
    },
    {
      "cell_type": "code",
      "execution_count": null,
      "id": "fa0c1804",
      "metadata": {
        "id": "fa0c1804",
        "outputId": "d324cd1b-50dd-4a56-ae94-0abfebadf3ec"
      },
      "outputs": [
        {
          "name": "stdout",
          "output_type": "stream",
          "text": [
            "\n",
            "Best Coarse Parameters for SVM (RBF Kernel): {'gamma': 0.21544346900318845, 'C': 1000.0}\n",
            "Best Coarse Score for SVM (RBF Kernel): 0.9749\n"
          ]
        }
      ],
      "source": [
        "best_params_svm = rnd_svm.best_params_\n",
        "best_score_svm = rnd_svm.best_score_\n",
        "print(f\"\\nBest Coarse Parameters for SVM (RBF Kernel): {best_params_svm}\")\n",
        "print(f\"Best Coarse Score for SVM (RBF Kernel): {best_score_svm:.4f}\")"
      ]
    },
    {
      "cell_type": "markdown",
      "id": "f99abeab",
      "metadata": {
        "id": "f99abeab"
      },
      "source": [
        "# **SVM with RBF Kernel - Fine Search**"
      ]
    },
    {
      "cell_type": "code",
      "execution_count": null,
      "id": "63c7faaa",
      "metadata": {
        "id": "63c7faaa",
        "outputId": "2f5ac7f6-e237-47f3-89cb-ba20d00215c6"
      },
      "outputs": [
        {
          "name": "stdout",
          "output_type": "stream",
          "text": [
            "\n",
            "Running SVM (RBF Kernel) Fine Hyperparameter Tuning...\n"
          ]
        }
      ],
      "source": [
        "print(\"\\nRunning SVM (RBF Kernel) Fine Hyperparameter Tuning...\")"
      ]
    },
    {
      "cell_type": "code",
      "execution_count": null,
      "id": "328acfc1",
      "metadata": {
        "id": "328acfc1"
      },
      "outputs": [],
      "source": [
        "svr_params_fine = {\n",
        "    'C': [500, 750, 1000, 1250, 1500],\n",
        "    'gamma': [0.1, 0.15, 0.2, 0.215, 0.25, 0.3]\n",
        "}\n",
        "\n",
        "fine_search_svr = GridSearchCV(\n",
        "    estimator=svm_reg,\n",
        "    param_grid=svr_params_fine,\n",
        "    cv=5,\n",
        "    n_jobs=-1,\n",
        "    verbose=1\n",
        ")"
      ]
    },
    {
      "cell_type": "code",
      "execution_count": null,
      "id": "fb913464",
      "metadata": {
        "id": "fb913464",
        "outputId": "b64e1a62-2e80-4769-c8ca-28ea03335558"
      },
      "outputs": [
        {
          "name": "stdout",
          "output_type": "stream",
          "text": [
            "Fitting 5 folds for each of 30 candidates, totalling 150 fits\n"
          ]
        },
        {
          "data": {
            "text/html": [
              "<style>#sk-container-id-9 {color: black;}#sk-container-id-9 pre{padding: 0;}#sk-container-id-9 div.sk-toggleable {background-color: white;}#sk-container-id-9 label.sk-toggleable__label {cursor: pointer;display: block;width: 100%;margin-bottom: 0;padding: 0.3em;box-sizing: border-box;text-align: center;}#sk-container-id-9 label.sk-toggleable__label-arrow:before {content: \"▸\";float: left;margin-right: 0.25em;color: #696969;}#sk-container-id-9 label.sk-toggleable__label-arrow:hover:before {color: black;}#sk-container-id-9 div.sk-estimator:hover label.sk-toggleable__label-arrow:before {color: black;}#sk-container-id-9 div.sk-toggleable__content {max-height: 0;max-width: 0;overflow: hidden;text-align: left;background-color: #f0f8ff;}#sk-container-id-9 div.sk-toggleable__content pre {margin: 0.2em;color: black;border-radius: 0.25em;background-color: #f0f8ff;}#sk-container-id-9 input.sk-toggleable__control:checked~div.sk-toggleable__content {max-height: 200px;max-width: 100%;overflow: auto;}#sk-container-id-9 input.sk-toggleable__control:checked~label.sk-toggleable__label-arrow:before {content: \"▾\";}#sk-container-id-9 div.sk-estimator input.sk-toggleable__control:checked~label.sk-toggleable__label {background-color: #d4ebff;}#sk-container-id-9 div.sk-label input.sk-toggleable__control:checked~label.sk-toggleable__label {background-color: #d4ebff;}#sk-container-id-9 input.sk-hidden--visually {border: 0;clip: rect(1px 1px 1px 1px);clip: rect(1px, 1px, 1px, 1px);height: 1px;margin: -1px;overflow: hidden;padding: 0;position: absolute;width: 1px;}#sk-container-id-9 div.sk-estimator {font-family: monospace;background-color: #f0f8ff;border: 1px dotted black;border-radius: 0.25em;box-sizing: border-box;margin-bottom: 0.5em;}#sk-container-id-9 div.sk-estimator:hover {background-color: #d4ebff;}#sk-container-id-9 div.sk-parallel-item::after {content: \"\";width: 100%;border-bottom: 1px solid gray;flex-grow: 1;}#sk-container-id-9 div.sk-label:hover label.sk-toggleable__label {background-color: #d4ebff;}#sk-container-id-9 div.sk-serial::before {content: \"\";position: absolute;border-left: 1px solid gray;box-sizing: border-box;top: 0;bottom: 0;left: 50%;z-index: 0;}#sk-container-id-9 div.sk-serial {display: flex;flex-direction: column;align-items: center;background-color: white;padding-right: 0.2em;padding-left: 0.2em;position: relative;}#sk-container-id-9 div.sk-item {position: relative;z-index: 1;}#sk-container-id-9 div.sk-parallel {display: flex;align-items: stretch;justify-content: center;background-color: white;position: relative;}#sk-container-id-9 div.sk-item::before, #sk-container-id-9 div.sk-parallel-item::before {content: \"\";position: absolute;border-left: 1px solid gray;box-sizing: border-box;top: 0;bottom: 0;left: 50%;z-index: -1;}#sk-container-id-9 div.sk-parallel-item {display: flex;flex-direction: column;z-index: 1;position: relative;background-color: white;}#sk-container-id-9 div.sk-parallel-item:first-child::after {align-self: flex-end;width: 50%;}#sk-container-id-9 div.sk-parallel-item:last-child::after {align-self: flex-start;width: 50%;}#sk-container-id-9 div.sk-parallel-item:only-child::after {width: 0;}#sk-container-id-9 div.sk-dashed-wrapped {border: 1px dashed gray;margin: 0 0.4em 0.5em 0.4em;box-sizing: border-box;padding-bottom: 0.4em;background-color: white;}#sk-container-id-9 div.sk-label label {font-family: monospace;font-weight: bold;display: inline-block;line-height: 1.2em;}#sk-container-id-9 div.sk-label-container {text-align: center;}#sk-container-id-9 div.sk-container {/* jupyter's `normalize.less` sets `[hidden] { display: none; }` but bootstrap.min.css set `[hidden] { display: none !important; }` so we also need the `!important` here to be able to override the default hidden behavior on the sphinx rendered scikit-learn.org. See: https://github.com/scikit-learn/scikit-learn/issues/21755 */display: inline-block !important;position: relative;}#sk-container-id-9 div.sk-text-repr-fallback {display: none;}</style><div id=\"sk-container-id-9\" class=\"sk-top-container\"><div class=\"sk-text-repr-fallback\"><pre>GridSearchCV(cv=5, estimator=SVR(), n_jobs=-1,\n",
              "             param_grid={&#x27;C&#x27;: [500, 750, 1000, 1250, 1500],\n",
              "                         &#x27;gamma&#x27;: [0.1, 0.15, 0.2, 0.215, 0.25, 0.3]},\n",
              "             verbose=1)</pre><b>In a Jupyter environment, please rerun this cell to show the HTML representation or trust the notebook. <br />On GitHub, the HTML representation is unable to render, please try loading this page with nbviewer.org.</b></div><div class=\"sk-container\" hidden><div class=\"sk-item sk-dashed-wrapped\"><div class=\"sk-label-container\"><div class=\"sk-label sk-toggleable\"><input class=\"sk-toggleable__control sk-hidden--visually\" id=\"sk-estimator-id-25\" type=\"checkbox\" ><label for=\"sk-estimator-id-25\" class=\"sk-toggleable__label sk-toggleable__label-arrow\">GridSearchCV</label><div class=\"sk-toggleable__content\"><pre>GridSearchCV(cv=5, estimator=SVR(), n_jobs=-1,\n",
              "             param_grid={&#x27;C&#x27;: [500, 750, 1000, 1250, 1500],\n",
              "                         &#x27;gamma&#x27;: [0.1, 0.15, 0.2, 0.215, 0.25, 0.3]},\n",
              "             verbose=1)</pre></div></div></div><div class=\"sk-parallel\"><div class=\"sk-parallel-item\"><div class=\"sk-item\"><div class=\"sk-label-container\"><div class=\"sk-label sk-toggleable\"><input class=\"sk-toggleable__control sk-hidden--visually\" id=\"sk-estimator-id-26\" type=\"checkbox\" ><label for=\"sk-estimator-id-26\" class=\"sk-toggleable__label sk-toggleable__label-arrow\">estimator: SVR</label><div class=\"sk-toggleable__content\"><pre>SVR()</pre></div></div></div><div class=\"sk-serial\"><div class=\"sk-item\"><div class=\"sk-estimator sk-toggleable\"><input class=\"sk-toggleable__control sk-hidden--visually\" id=\"sk-estimator-id-27\" type=\"checkbox\" ><label for=\"sk-estimator-id-27\" class=\"sk-toggleable__label sk-toggleable__label-arrow\">SVR</label><div class=\"sk-toggleable__content\"><pre>SVR()</pre></div></div></div></div></div></div></div></div></div></div>"
            ],
            "text/plain": [
              "GridSearchCV(cv=5, estimator=SVR(), n_jobs=-1,\n",
              "             param_grid={'C': [500, 750, 1000, 1250, 1500],\n",
              "                         'gamma': [0.1, 0.15, 0.2, 0.215, 0.25, 0.3]},\n",
              "             verbose=1)"
            ]
          },
          "execution_count": 91,
          "metadata": {},
          "output_type": "execute_result"
        }
      ],
      "source": [
        "fine_search_svr.fit(X_train_scaled, y_train)"
      ]
    },
    {
      "cell_type": "code",
      "execution_count": null,
      "id": "c96119bc",
      "metadata": {
        "id": "c96119bc",
        "outputId": "59d445e1-c8b8-4675-aa00-4fcca088bed4"
      },
      "outputs": [
        {
          "name": "stdout",
          "output_type": "stream",
          "text": [
            "Best Fine Parameters for SVM (RBF Kernel): {'C': 500, 'gamma': 0.1}\n",
            "Best Fine Score for SVM (RBF Kernel): 0.9865\n"
          ]
        }
      ],
      "source": [
        "best_params_fine_svr = fine_search_svr.best_params_\n",
        "best_score_fine_svr = fine_search_svr.best_score_\n",
        "print(f\"Best Fine Parameters for SVM (RBF Kernel): {best_params_fine_svr}\")\n",
        "print(f\"Best Fine Score for SVM (RBF Kernel): {best_score_fine_svr:.4f}\")"
      ]
    },
    {
      "cell_type": "markdown",
      "id": "0977322d",
      "metadata": {
        "id": "0977322d"
      },
      "source": [
        "**Model Evaluation on Test Set**"
      ]
    },
    {
      "cell_type": "code",
      "execution_count": null,
      "id": "7f84333f",
      "metadata": {
        "id": "7f84333f",
        "outputId": "c3537108-836e-4dfb-dbff-bc8fa24f5f4f"
      },
      "outputs": [
        {
          "name": "stdout",
          "output_type": "stream",
          "text": [
            "Final R² Score for SVM (RBF Kernel) on Test Set: 0.9891\n"
          ]
        }
      ],
      "source": [
        "from sklearn.metrics import r2_score\n",
        "best_svr_model = fine_search_svr.best_estimator_\n",
        "y_pred_svr = best_svr_model.predict(X_test_scaled)\n",
        "svr_r2 = r2_score(y_test, y_pred_svr)\n",
        "print(f\"Final R² Score for SVM (RBF Kernel) on Test Set: {svr_r2:.4f}\")"
      ]
    },
    {
      "cell_type": "markdown",
      "id": "1b92f7f4",
      "metadata": {
        "id": "1b92f7f4"
      },
      "source": [
        "# **Random Forest - Coarse Search**"
      ]
    },
    {
      "cell_type": "code",
      "execution_count": null,
      "id": "a3e2815a",
      "metadata": {
        "id": "a3e2815a",
        "outputId": "9d03d56f-dd1b-4a0f-876d-a3add1896b1a"
      },
      "outputs": [
        {
          "name": "stdout",
          "output_type": "stream",
          "text": [
            "Running Random Forest Coarse Hyperparameter Tuning...\n"
          ]
        }
      ],
      "source": [
        "from sklearn.ensemble import RandomForestRegressor\n",
        "from sklearn.model_selection import RandomizedSearchCV, GridSearchCV\n",
        "print(\"Running Random Forest Coarse Hyperparameter Tuning...\")"
      ]
    },
    {
      "cell_type": "code",
      "execution_count": null,
      "id": "c2268b70",
      "metadata": {
        "id": "c2268b70"
      },
      "outputs": [],
      "source": [
        "rf_reg = RandomForestRegressor()"
      ]
    },
    {
      "cell_type": "code",
      "execution_count": null,
      "id": "ce742855",
      "metadata": {
        "id": "ce742855"
      },
      "outputs": [],
      "source": [
        "hpt_rnd_rf_dict = {\n",
        "    'n_estimators': [50, 100, 200, 300, 500],\n",
        "    'max_depth': [5, 10, 15, 20, 30, None]\n",
        "}"
      ]
    },
    {
      "cell_type": "code",
      "execution_count": null,
      "id": "ce4ac218",
      "metadata": {
        "id": "ce4ac218"
      },
      "outputs": [],
      "source": [
        "rnd_rf = RandomizedSearchCV(\n",
        "    estimator=rf_reg,\n",
        "    param_distributions=hpt_rnd_rf_dict,\n",
        "    cv=5,\n",
        "    n_iter=30,\n",
        "    n_jobs=-1,\n",
        "    verbose=1,\n",
        "    random_state=42\n",
        ")"
      ]
    },
    {
      "cell_type": "code",
      "execution_count": null,
      "id": "d46e8c8c",
      "metadata": {
        "id": "d46e8c8c",
        "outputId": "23c9d2b7-da45-4894-8159-d724d4e912de"
      },
      "outputs": [
        {
          "name": "stdout",
          "output_type": "stream",
          "text": [
            "Fitting 5 folds for each of 30 candidates, totalling 150 fits\n"
          ]
        },
        {
          "data": {
            "text/html": [
              "<style>#sk-container-id-10 {color: black;}#sk-container-id-10 pre{padding: 0;}#sk-container-id-10 div.sk-toggleable {background-color: white;}#sk-container-id-10 label.sk-toggleable__label {cursor: pointer;display: block;width: 100%;margin-bottom: 0;padding: 0.3em;box-sizing: border-box;text-align: center;}#sk-container-id-10 label.sk-toggleable__label-arrow:before {content: \"▸\";float: left;margin-right: 0.25em;color: #696969;}#sk-container-id-10 label.sk-toggleable__label-arrow:hover:before {color: black;}#sk-container-id-10 div.sk-estimator:hover label.sk-toggleable__label-arrow:before {color: black;}#sk-container-id-10 div.sk-toggleable__content {max-height: 0;max-width: 0;overflow: hidden;text-align: left;background-color: #f0f8ff;}#sk-container-id-10 div.sk-toggleable__content pre {margin: 0.2em;color: black;border-radius: 0.25em;background-color: #f0f8ff;}#sk-container-id-10 input.sk-toggleable__control:checked~div.sk-toggleable__content {max-height: 200px;max-width: 100%;overflow: auto;}#sk-container-id-10 input.sk-toggleable__control:checked~label.sk-toggleable__label-arrow:before {content: \"▾\";}#sk-container-id-10 div.sk-estimator input.sk-toggleable__control:checked~label.sk-toggleable__label {background-color: #d4ebff;}#sk-container-id-10 div.sk-label input.sk-toggleable__control:checked~label.sk-toggleable__label {background-color: #d4ebff;}#sk-container-id-10 input.sk-hidden--visually {border: 0;clip: rect(1px 1px 1px 1px);clip: rect(1px, 1px, 1px, 1px);height: 1px;margin: -1px;overflow: hidden;padding: 0;position: absolute;width: 1px;}#sk-container-id-10 div.sk-estimator {font-family: monospace;background-color: #f0f8ff;border: 1px dotted black;border-radius: 0.25em;box-sizing: border-box;margin-bottom: 0.5em;}#sk-container-id-10 div.sk-estimator:hover {background-color: #d4ebff;}#sk-container-id-10 div.sk-parallel-item::after {content: \"\";width: 100%;border-bottom: 1px solid gray;flex-grow: 1;}#sk-container-id-10 div.sk-label:hover label.sk-toggleable__label {background-color: #d4ebff;}#sk-container-id-10 div.sk-serial::before {content: \"\";position: absolute;border-left: 1px solid gray;box-sizing: border-box;top: 0;bottom: 0;left: 50%;z-index: 0;}#sk-container-id-10 div.sk-serial {display: flex;flex-direction: column;align-items: center;background-color: white;padding-right: 0.2em;padding-left: 0.2em;position: relative;}#sk-container-id-10 div.sk-item {position: relative;z-index: 1;}#sk-container-id-10 div.sk-parallel {display: flex;align-items: stretch;justify-content: center;background-color: white;position: relative;}#sk-container-id-10 div.sk-item::before, #sk-container-id-10 div.sk-parallel-item::before {content: \"\";position: absolute;border-left: 1px solid gray;box-sizing: border-box;top: 0;bottom: 0;left: 50%;z-index: -1;}#sk-container-id-10 div.sk-parallel-item {display: flex;flex-direction: column;z-index: 1;position: relative;background-color: white;}#sk-container-id-10 div.sk-parallel-item:first-child::after {align-self: flex-end;width: 50%;}#sk-container-id-10 div.sk-parallel-item:last-child::after {align-self: flex-start;width: 50%;}#sk-container-id-10 div.sk-parallel-item:only-child::after {width: 0;}#sk-container-id-10 div.sk-dashed-wrapped {border: 1px dashed gray;margin: 0 0.4em 0.5em 0.4em;box-sizing: border-box;padding-bottom: 0.4em;background-color: white;}#sk-container-id-10 div.sk-label label {font-family: monospace;font-weight: bold;display: inline-block;line-height: 1.2em;}#sk-container-id-10 div.sk-label-container {text-align: center;}#sk-container-id-10 div.sk-container {/* jupyter's `normalize.less` sets `[hidden] { display: none; }` but bootstrap.min.css set `[hidden] { display: none !important; }` so we also need the `!important` here to be able to override the default hidden behavior on the sphinx rendered scikit-learn.org. See: https://github.com/scikit-learn/scikit-learn/issues/21755 */display: inline-block !important;position: relative;}#sk-container-id-10 div.sk-text-repr-fallback {display: none;}</style><div id=\"sk-container-id-10\" class=\"sk-top-container\"><div class=\"sk-text-repr-fallback\"><pre>RandomizedSearchCV(cv=5, estimator=RandomForestRegressor(), n_iter=30,\n",
              "                   n_jobs=-1,\n",
              "                   param_distributions={&#x27;max_depth&#x27;: [5, 10, 15, 20, 30, None],\n",
              "                                        &#x27;n_estimators&#x27;: [50, 100, 200, 300,\n",
              "                                                         500]},\n",
              "                   random_state=42, verbose=1)</pre><b>In a Jupyter environment, please rerun this cell to show the HTML representation or trust the notebook. <br />On GitHub, the HTML representation is unable to render, please try loading this page with nbviewer.org.</b></div><div class=\"sk-container\" hidden><div class=\"sk-item sk-dashed-wrapped\"><div class=\"sk-label-container\"><div class=\"sk-label sk-toggleable\"><input class=\"sk-toggleable__control sk-hidden--visually\" id=\"sk-estimator-id-28\" type=\"checkbox\" ><label for=\"sk-estimator-id-28\" class=\"sk-toggleable__label sk-toggleable__label-arrow\">RandomizedSearchCV</label><div class=\"sk-toggleable__content\"><pre>RandomizedSearchCV(cv=5, estimator=RandomForestRegressor(), n_iter=30,\n",
              "                   n_jobs=-1,\n",
              "                   param_distributions={&#x27;max_depth&#x27;: [5, 10, 15, 20, 30, None],\n",
              "                                        &#x27;n_estimators&#x27;: [50, 100, 200, 300,\n",
              "                                                         500]},\n",
              "                   random_state=42, verbose=1)</pre></div></div></div><div class=\"sk-parallel\"><div class=\"sk-parallel-item\"><div class=\"sk-item\"><div class=\"sk-label-container\"><div class=\"sk-label sk-toggleable\"><input class=\"sk-toggleable__control sk-hidden--visually\" id=\"sk-estimator-id-29\" type=\"checkbox\" ><label for=\"sk-estimator-id-29\" class=\"sk-toggleable__label sk-toggleable__label-arrow\">estimator: RandomForestRegressor</label><div class=\"sk-toggleable__content\"><pre>RandomForestRegressor()</pre></div></div></div><div class=\"sk-serial\"><div class=\"sk-item\"><div class=\"sk-estimator sk-toggleable\"><input class=\"sk-toggleable__control sk-hidden--visually\" id=\"sk-estimator-id-30\" type=\"checkbox\" ><label for=\"sk-estimator-id-30\" class=\"sk-toggleable__label sk-toggleable__label-arrow\">RandomForestRegressor</label><div class=\"sk-toggleable__content\"><pre>RandomForestRegressor()</pre></div></div></div></div></div></div></div></div></div></div>"
            ],
            "text/plain": [
              "RandomizedSearchCV(cv=5, estimator=RandomForestRegressor(), n_iter=30,\n",
              "                   n_jobs=-1,\n",
              "                   param_distributions={'max_depth': [5, 10, 15, 20, 30, None],\n",
              "                                        'n_estimators': [50, 100, 200, 300,\n",
              "                                                         500]},\n",
              "                   random_state=42, verbose=1)"
            ]
          },
          "execution_count": 98,
          "metadata": {},
          "output_type": "execute_result"
        }
      ],
      "source": [
        "rnd_rf.fit(X_train_scaled, y_train)"
      ]
    },
    {
      "cell_type": "code",
      "execution_count": null,
      "id": "0524c4ab",
      "metadata": {
        "id": "0524c4ab",
        "outputId": "4944cdd8-11b8-4207-923e-563304e5d86f"
      },
      "outputs": [
        {
          "name": "stdout",
          "output_type": "stream",
          "text": [
            "Best Coarse Parameters for Random Forest: {'n_estimators': 300, 'max_depth': 30}\n",
            "Best Coarse Score for Random Forest: 0.9988\n"
          ]
        }
      ],
      "source": [
        "best_params_rf = rnd_rf.best_params_\n",
        "best_score_rf = rnd_rf.best_score_\n",
        "print(f\"Best Coarse Parameters for Random Forest: {best_params_rf}\")\n",
        "print(f\"Best Coarse Score for Random Forest: {best_score_rf:.4f}\")"
      ]
    },
    {
      "cell_type": "markdown",
      "id": "acdb8b96",
      "metadata": {
        "id": "acdb8b96"
      },
      "source": [
        "# **Random Forest - Fine Search**"
      ]
    },
    {
      "cell_type": "code",
      "execution_count": null,
      "id": "2c486e5b",
      "metadata": {
        "id": "2c486e5b"
      },
      "outputs": [],
      "source": [
        "from sklearn.ensemble import RandomForestRegressor\n",
        "rf_reg = RandomForestRegressor()"
      ]
    },
    {
      "cell_type": "code",
      "execution_count": null,
      "id": "7c1380aa",
      "metadata": {
        "id": "7c1380aa",
        "outputId": "c3ea34e5-38d8-4844-f7a8-abbe608e7961"
      },
      "outputs": [
        {
          "name": "stdout",
          "output_type": "stream",
          "text": [
            "Fitting 5 folds for each of 25 candidates, totalling 125 fits\n"
          ]
        },
        {
          "data": {
            "text/html": [
              "<style>#sk-container-id-13 {color: black;}#sk-container-id-13 pre{padding: 0;}#sk-container-id-13 div.sk-toggleable {background-color: white;}#sk-container-id-13 label.sk-toggleable__label {cursor: pointer;display: block;width: 100%;margin-bottom: 0;padding: 0.3em;box-sizing: border-box;text-align: center;}#sk-container-id-13 label.sk-toggleable__label-arrow:before {content: \"▸\";float: left;margin-right: 0.25em;color: #696969;}#sk-container-id-13 label.sk-toggleable__label-arrow:hover:before {color: black;}#sk-container-id-13 div.sk-estimator:hover label.sk-toggleable__label-arrow:before {color: black;}#sk-container-id-13 div.sk-toggleable__content {max-height: 0;max-width: 0;overflow: hidden;text-align: left;background-color: #f0f8ff;}#sk-container-id-13 div.sk-toggleable__content pre {margin: 0.2em;color: black;border-radius: 0.25em;background-color: #f0f8ff;}#sk-container-id-13 input.sk-toggleable__control:checked~div.sk-toggleable__content {max-height: 200px;max-width: 100%;overflow: auto;}#sk-container-id-13 input.sk-toggleable__control:checked~label.sk-toggleable__label-arrow:before {content: \"▾\";}#sk-container-id-13 div.sk-estimator input.sk-toggleable__control:checked~label.sk-toggleable__label {background-color: #d4ebff;}#sk-container-id-13 div.sk-label input.sk-toggleable__control:checked~label.sk-toggleable__label {background-color: #d4ebff;}#sk-container-id-13 input.sk-hidden--visually {border: 0;clip: rect(1px 1px 1px 1px);clip: rect(1px, 1px, 1px, 1px);height: 1px;margin: -1px;overflow: hidden;padding: 0;position: absolute;width: 1px;}#sk-container-id-13 div.sk-estimator {font-family: monospace;background-color: #f0f8ff;border: 1px dotted black;border-radius: 0.25em;box-sizing: border-box;margin-bottom: 0.5em;}#sk-container-id-13 div.sk-estimator:hover {background-color: #d4ebff;}#sk-container-id-13 div.sk-parallel-item::after {content: \"\";width: 100%;border-bottom: 1px solid gray;flex-grow: 1;}#sk-container-id-13 div.sk-label:hover label.sk-toggleable__label {background-color: #d4ebff;}#sk-container-id-13 div.sk-serial::before {content: \"\";position: absolute;border-left: 1px solid gray;box-sizing: border-box;top: 0;bottom: 0;left: 50%;z-index: 0;}#sk-container-id-13 div.sk-serial {display: flex;flex-direction: column;align-items: center;background-color: white;padding-right: 0.2em;padding-left: 0.2em;position: relative;}#sk-container-id-13 div.sk-item {position: relative;z-index: 1;}#sk-container-id-13 div.sk-parallel {display: flex;align-items: stretch;justify-content: center;background-color: white;position: relative;}#sk-container-id-13 div.sk-item::before, #sk-container-id-13 div.sk-parallel-item::before {content: \"\";position: absolute;border-left: 1px solid gray;box-sizing: border-box;top: 0;bottom: 0;left: 50%;z-index: -1;}#sk-container-id-13 div.sk-parallel-item {display: flex;flex-direction: column;z-index: 1;position: relative;background-color: white;}#sk-container-id-13 div.sk-parallel-item:first-child::after {align-self: flex-end;width: 50%;}#sk-container-id-13 div.sk-parallel-item:last-child::after {align-self: flex-start;width: 50%;}#sk-container-id-13 div.sk-parallel-item:only-child::after {width: 0;}#sk-container-id-13 div.sk-dashed-wrapped {border: 1px dashed gray;margin: 0 0.4em 0.5em 0.4em;box-sizing: border-box;padding-bottom: 0.4em;background-color: white;}#sk-container-id-13 div.sk-label label {font-family: monospace;font-weight: bold;display: inline-block;line-height: 1.2em;}#sk-container-id-13 div.sk-label-container {text-align: center;}#sk-container-id-13 div.sk-container {/* jupyter's `normalize.less` sets `[hidden] { display: none; }` but bootstrap.min.css set `[hidden] { display: none !important; }` so we also need the `!important` here to be able to override the default hidden behavior on the sphinx rendered scikit-learn.org. See: https://github.com/scikit-learn/scikit-learn/issues/21755 */display: inline-block !important;position: relative;}#sk-container-id-13 div.sk-text-repr-fallback {display: none;}</style><div id=\"sk-container-id-13\" class=\"sk-top-container\"><div class=\"sk-text-repr-fallback\"><pre>GridSearchCV(cv=5, estimator=RandomForestRegressor(), n_jobs=-1,\n",
              "             param_grid={&#x27;max_depth&#x27;: [10, 12, 15, 18, 20],\n",
              "                         &#x27;n_estimators&#x27;: [150, 175, 200, 225, 250]},\n",
              "             verbose=1)</pre><b>In a Jupyter environment, please rerun this cell to show the HTML representation or trust the notebook. <br />On GitHub, the HTML representation is unable to render, please try loading this page with nbviewer.org.</b></div><div class=\"sk-container\" hidden><div class=\"sk-item sk-dashed-wrapped\"><div class=\"sk-label-container\"><div class=\"sk-label sk-toggleable\"><input class=\"sk-toggleable__control sk-hidden--visually\" id=\"sk-estimator-id-37\" type=\"checkbox\" ><label for=\"sk-estimator-id-37\" class=\"sk-toggleable__label sk-toggleable__label-arrow\">GridSearchCV</label><div class=\"sk-toggleable__content\"><pre>GridSearchCV(cv=5, estimator=RandomForestRegressor(), n_jobs=-1,\n",
              "             param_grid={&#x27;max_depth&#x27;: [10, 12, 15, 18, 20],\n",
              "                         &#x27;n_estimators&#x27;: [150, 175, 200, 225, 250]},\n",
              "             verbose=1)</pre></div></div></div><div class=\"sk-parallel\"><div class=\"sk-parallel-item\"><div class=\"sk-item\"><div class=\"sk-label-container\"><div class=\"sk-label sk-toggleable\"><input class=\"sk-toggleable__control sk-hidden--visually\" id=\"sk-estimator-id-38\" type=\"checkbox\" ><label for=\"sk-estimator-id-38\" class=\"sk-toggleable__label sk-toggleable__label-arrow\">estimator: RandomForestRegressor</label><div class=\"sk-toggleable__content\"><pre>RandomForestRegressor()</pre></div></div></div><div class=\"sk-serial\"><div class=\"sk-item\"><div class=\"sk-estimator sk-toggleable\"><input class=\"sk-toggleable__control sk-hidden--visually\" id=\"sk-estimator-id-39\" type=\"checkbox\" ><label for=\"sk-estimator-id-39\" class=\"sk-toggleable__label sk-toggleable__label-arrow\">RandomForestRegressor</label><div class=\"sk-toggleable__content\"><pre>RandomForestRegressor()</pre></div></div></div></div></div></div></div></div></div></div>"
            ],
            "text/plain": [
              "GridSearchCV(cv=5, estimator=RandomForestRegressor(), n_jobs=-1,\n",
              "             param_grid={'max_depth': [10, 12, 15, 18, 20],\n",
              "                         'n_estimators': [150, 175, 200, 225, 250]},\n",
              "             verbose=1)"
            ]
          },
          "execution_count": 113,
          "metadata": {},
          "output_type": "execute_result"
        }
      ],
      "source": [
        "from sklearn.model_selection import GridSearchCV\n",
        "\n",
        "# Fine Parameter Ranges based on coarse results\n",
        "rf_params_fine = {\n",
        "    'n_estimators': [150, 175, 200, 225, 250],\n",
        "    'max_depth': [10, 12, 15, 18, 20]\n",
        "}\n",
        "\n",
        "fine_search_rf = GridSearchCV(\n",
        "    estimator=rf_reg,\n",
        "    param_grid=rf_params_fine,\n",
        "    cv=5,\n",
        "    n_jobs=-1,\n",
        "    verbose=1\n",
        ")\n",
        "\n",
        "# Fitting the Model\n",
        "fine_search_rf.fit(X_train_scaled, y_train)"
      ]
    },
    {
      "cell_type": "code",
      "execution_count": null,
      "id": "9838e179",
      "metadata": {
        "id": "9838e179",
        "outputId": "1901f947-2d10-4656-c974-67afeaa6569c"
      },
      "outputs": [
        {
          "name": "stdout",
          "output_type": "stream",
          "text": [
            "\n",
            "Best Fine Parameters for Random Forest: {'max_depth': 15, 'n_estimators': 175}\n",
            "Best Fine Cross-Validated Score for Random Forest: 0.9989\n"
          ]
        }
      ],
      "source": [
        "# Extracting the Best Parameters and Score\n",
        "best_params_fine_rf = fine_search_rf.best_params_\n",
        "best_score_fine_rf = fine_search_rf.best_score_\n",
        "print(f\"\\nBest Fine Parameters for Random Forest: {best_params_fine_rf}\")\n",
        "print(f\"Best Fine Cross-Validated Score for Random Forest: {best_score_fine_rf:.4f}\")"
      ]
    },
    {
      "cell_type": "markdown",
      "id": "823e0ca8",
      "metadata": {
        "id": "823e0ca8"
      },
      "source": [
        "**Model Evaluation on Test Set**"
      ]
    },
    {
      "cell_type": "code",
      "execution_count": null,
      "id": "8b561a7d",
      "metadata": {
        "id": "8b561a7d",
        "outputId": "6f2036ed-6b14-4e15-d7b0-2f62d885e3f9"
      },
      "outputs": [
        {
          "name": "stdout",
          "output_type": "stream",
          "text": [
            "Evaluating Final Random Forest Model on Test Set...\n",
            "Final R² Score for Random Forest on Test Set: 0.9992\n"
          ]
        }
      ],
      "source": [
        "print(\"Evaluating Final Random Forest Model on Test Set...\")\n",
        "best_rf_model = fine_search_rf.best_estimator_\n",
        "y_pred_rf = best_rf_model.predict(X_test_scaled)\n",
        "rf_r2 = r2_score(y_test, y_pred_rf)\n",
        "print(f\"Final R² Score for Random Forest on Test Set: {rf_r2:.4f}\")"
      ]
    },
    {
      "cell_type": "markdown",
      "id": "cedff222",
      "metadata": {
        "id": "cedff222"
      },
      "source": [
        "# **AdaBoost - Coarse Search**"
      ]
    },
    {
      "cell_type": "code",
      "execution_count": null,
      "id": "820024ea",
      "metadata": {
        "id": "820024ea",
        "outputId": "922d015f-e660-4386-a807-00407f806026"
      },
      "outputs": [
        {
          "name": "stdout",
          "output_type": "stream",
          "text": [
            "Running AdaBoost Coarse Hyperparameter Tuning...\n"
          ]
        }
      ],
      "source": [
        "from sklearn.ensemble import AdaBoostRegressor\n",
        "from sklearn.model_selection import RandomizedSearchCV, GridSearchCV\n",
        "from sklearn.tree import DecisionTreeRegressor\n",
        "print(\"Running AdaBoost Coarse Hyperparameter Tuning...\")"
      ]
    },
    {
      "cell_type": "code",
      "execution_count": null,
      "id": "0b64ed27",
      "metadata": {
        "id": "0b64ed27"
      },
      "outputs": [],
      "source": [
        "ada_reg = AdaBoostRegressor(DecisionTreeRegressor(max_depth=1))"
      ]
    },
    {
      "cell_type": "code",
      "execution_count": null,
      "id": "7b5642ce",
      "metadata": {
        "id": "7b5642ce"
      },
      "outputs": [],
      "source": [
        "ada_params_coarse = {\n",
        "    'n_estimators': np.arange(50, 501, 50),\n",
        "    'learning_rate': np.linspace(0.01, 2, 20)\n",
        "}"
      ]
    },
    {
      "cell_type": "code",
      "execution_count": null,
      "id": "718cd37c",
      "metadata": {
        "id": "718cd37c"
      },
      "outputs": [],
      "source": [
        "rnd_ada = RandomizedSearchCV(\n",
        "    estimator=ada_reg,\n",
        "    param_distributions=ada_params_coarse,\n",
        "    n_iter=30,\n",
        "    cv=5,\n",
        "    n_jobs=-1,\n",
        "    verbose=1,\n",
        "    random_state=42\n",
        ")"
      ]
    },
    {
      "cell_type": "code",
      "execution_count": null,
      "id": "cba4fbbf",
      "metadata": {
        "id": "cba4fbbf",
        "outputId": "d192204f-b506-444c-9bd1-e1401b9945a2"
      },
      "outputs": [
        {
          "name": "stdout",
          "output_type": "stream",
          "text": [
            "Fitting 5 folds for each of 30 candidates, totalling 150 fits\n"
          ]
        },
        {
          "data": {
            "text/html": [
              "<style>#sk-container-id-22 {color: black;}#sk-container-id-22 pre{padding: 0;}#sk-container-id-22 div.sk-toggleable {background-color: white;}#sk-container-id-22 label.sk-toggleable__label {cursor: pointer;display: block;width: 100%;margin-bottom: 0;padding: 0.3em;box-sizing: border-box;text-align: center;}#sk-container-id-22 label.sk-toggleable__label-arrow:before {content: \"▸\";float: left;margin-right: 0.25em;color: #696969;}#sk-container-id-22 label.sk-toggleable__label-arrow:hover:before {color: black;}#sk-container-id-22 div.sk-estimator:hover label.sk-toggleable__label-arrow:before {color: black;}#sk-container-id-22 div.sk-toggleable__content {max-height: 0;max-width: 0;overflow: hidden;text-align: left;background-color: #f0f8ff;}#sk-container-id-22 div.sk-toggleable__content pre {margin: 0.2em;color: black;border-radius: 0.25em;background-color: #f0f8ff;}#sk-container-id-22 input.sk-toggleable__control:checked~div.sk-toggleable__content {max-height: 200px;max-width: 100%;overflow: auto;}#sk-container-id-22 input.sk-toggleable__control:checked~label.sk-toggleable__label-arrow:before {content: \"▾\";}#sk-container-id-22 div.sk-estimator input.sk-toggleable__control:checked~label.sk-toggleable__label {background-color: #d4ebff;}#sk-container-id-22 div.sk-label input.sk-toggleable__control:checked~label.sk-toggleable__label {background-color: #d4ebff;}#sk-container-id-22 input.sk-hidden--visually {border: 0;clip: rect(1px 1px 1px 1px);clip: rect(1px, 1px, 1px, 1px);height: 1px;margin: -1px;overflow: hidden;padding: 0;position: absolute;width: 1px;}#sk-container-id-22 div.sk-estimator {font-family: monospace;background-color: #f0f8ff;border: 1px dotted black;border-radius: 0.25em;box-sizing: border-box;margin-bottom: 0.5em;}#sk-container-id-22 div.sk-estimator:hover {background-color: #d4ebff;}#sk-container-id-22 div.sk-parallel-item::after {content: \"\";width: 100%;border-bottom: 1px solid gray;flex-grow: 1;}#sk-container-id-22 div.sk-label:hover label.sk-toggleable__label {background-color: #d4ebff;}#sk-container-id-22 div.sk-serial::before {content: \"\";position: absolute;border-left: 1px solid gray;box-sizing: border-box;top: 0;bottom: 0;left: 50%;z-index: 0;}#sk-container-id-22 div.sk-serial {display: flex;flex-direction: column;align-items: center;background-color: white;padding-right: 0.2em;padding-left: 0.2em;position: relative;}#sk-container-id-22 div.sk-item {position: relative;z-index: 1;}#sk-container-id-22 div.sk-parallel {display: flex;align-items: stretch;justify-content: center;background-color: white;position: relative;}#sk-container-id-22 div.sk-item::before, #sk-container-id-22 div.sk-parallel-item::before {content: \"\";position: absolute;border-left: 1px solid gray;box-sizing: border-box;top: 0;bottom: 0;left: 50%;z-index: -1;}#sk-container-id-22 div.sk-parallel-item {display: flex;flex-direction: column;z-index: 1;position: relative;background-color: white;}#sk-container-id-22 div.sk-parallel-item:first-child::after {align-self: flex-end;width: 50%;}#sk-container-id-22 div.sk-parallel-item:last-child::after {align-self: flex-start;width: 50%;}#sk-container-id-22 div.sk-parallel-item:only-child::after {width: 0;}#sk-container-id-22 div.sk-dashed-wrapped {border: 1px dashed gray;margin: 0 0.4em 0.5em 0.4em;box-sizing: border-box;padding-bottom: 0.4em;background-color: white;}#sk-container-id-22 div.sk-label label {font-family: monospace;font-weight: bold;display: inline-block;line-height: 1.2em;}#sk-container-id-22 div.sk-label-container {text-align: center;}#sk-container-id-22 div.sk-container {/* jupyter's `normalize.less` sets `[hidden] { display: none; }` but bootstrap.min.css set `[hidden] { display: none !important; }` so we also need the `!important` here to be able to override the default hidden behavior on the sphinx rendered scikit-learn.org. See: https://github.com/scikit-learn/scikit-learn/issues/21755 */display: inline-block !important;position: relative;}#sk-container-id-22 div.sk-text-repr-fallback {display: none;}</style><div id=\"sk-container-id-22\" class=\"sk-top-container\"><div class=\"sk-text-repr-fallback\"><pre>RandomizedSearchCV(cv=5,\n",
              "                   estimator=AdaBoostRegressor(estimator=DecisionTreeRegressor(max_depth=1)),\n",
              "                   n_iter=30, n_jobs=-1,\n",
              "                   param_distributions={&#x27;learning_rate&#x27;: array([0.01      , 0.11473684, 0.21947368, 0.32421053, 0.42894737,\n",
              "       0.53368421, 0.63842105, 0.74315789, 0.84789474, 0.95263158,\n",
              "       1.05736842, 1.16210526, 1.26684211, 1.37157895, 1.47631579,\n",
              "       1.58105263, 1.68578947, 1.79052632, 1.89526316, 2.        ]),\n",
              "                                        &#x27;n_estimators&#x27;: array([ 50, 100, 150, 200, 250, 300, 350, 400, 450, 500])},\n",
              "                   random_state=42, verbose=1)</pre><b>In a Jupyter environment, please rerun this cell to show the HTML representation or trust the notebook. <br />On GitHub, the HTML representation is unable to render, please try loading this page with nbviewer.org.</b></div><div class=\"sk-container\" hidden><div class=\"sk-item sk-dashed-wrapped\"><div class=\"sk-label-container\"><div class=\"sk-label sk-toggleable\"><input class=\"sk-toggleable__control sk-hidden--visually\" id=\"sk-estimator-id-65\" type=\"checkbox\" ><label for=\"sk-estimator-id-65\" class=\"sk-toggleable__label sk-toggleable__label-arrow\">RandomizedSearchCV</label><div class=\"sk-toggleable__content\"><pre>RandomizedSearchCV(cv=5,\n",
              "                   estimator=AdaBoostRegressor(estimator=DecisionTreeRegressor(max_depth=1)),\n",
              "                   n_iter=30, n_jobs=-1,\n",
              "                   param_distributions={&#x27;learning_rate&#x27;: array([0.01      , 0.11473684, 0.21947368, 0.32421053, 0.42894737,\n",
              "       0.53368421, 0.63842105, 0.74315789, 0.84789474, 0.95263158,\n",
              "       1.05736842, 1.16210526, 1.26684211, 1.37157895, 1.47631579,\n",
              "       1.58105263, 1.68578947, 1.79052632, 1.89526316, 2.        ]),\n",
              "                                        &#x27;n_estimators&#x27;: array([ 50, 100, 150, 200, 250, 300, 350, 400, 450, 500])},\n",
              "                   random_state=42, verbose=1)</pre></div></div></div><div class=\"sk-parallel\"><div class=\"sk-parallel-item\"><div class=\"sk-item\"><div class=\"sk-label-container\"><div class=\"sk-label sk-toggleable\"><input class=\"sk-toggleable__control sk-hidden--visually\" id=\"sk-estimator-id-66\" type=\"checkbox\" ><label for=\"sk-estimator-id-66\" class=\"sk-toggleable__label sk-toggleable__label-arrow\">estimator: AdaBoostRegressor</label><div class=\"sk-toggleable__content\"><pre>AdaBoostRegressor(estimator=DecisionTreeRegressor(max_depth=1))</pre></div></div></div><div class=\"sk-serial\"><div class=\"sk-item sk-dashed-wrapped\"><div class=\"sk-parallel\"><div class=\"sk-parallel-item\"><div class=\"sk-item\"><div class=\"sk-label-container\"><div class=\"sk-label sk-toggleable\"><input class=\"sk-toggleable__control sk-hidden--visually\" id=\"sk-estimator-id-67\" type=\"checkbox\" ><label for=\"sk-estimator-id-67\" class=\"sk-toggleable__label sk-toggleable__label-arrow\">estimator: DecisionTreeRegressor</label><div class=\"sk-toggleable__content\"><pre>DecisionTreeRegressor(max_depth=1)</pre></div></div></div><div class=\"sk-serial\"><div class=\"sk-item\"><div class=\"sk-estimator sk-toggleable\"><input class=\"sk-toggleable__control sk-hidden--visually\" id=\"sk-estimator-id-68\" type=\"checkbox\" ><label for=\"sk-estimator-id-68\" class=\"sk-toggleable__label sk-toggleable__label-arrow\">DecisionTreeRegressor</label><div class=\"sk-toggleable__content\"><pre>DecisionTreeRegressor(max_depth=1)</pre></div></div></div></div></div></div></div></div></div></div></div></div></div></div></div>"
            ],
            "text/plain": [
              "RandomizedSearchCV(cv=5,\n",
              "                   estimator=AdaBoostRegressor(estimator=DecisionTreeRegressor(max_depth=1)),\n",
              "                   n_iter=30, n_jobs=-1,\n",
              "                   param_distributions={'learning_rate': array([0.01      , 0.11473684, 0.21947368, 0.32421053, 0.42894737,\n",
              "       0.53368421, 0.63842105, 0.74315789, 0.84789474, 0.95263158,\n",
              "       1.05736842, 1.16210526, 1.26684211, 1.37157895, 1.47631579,\n",
              "       1.58105263, 1.68578947, 1.79052632, 1.89526316, 2.        ]),\n",
              "                                        'n_estimators': array([ 50, 100, 150, 200, 250, 300, 350, 400, 450, 500])},\n",
              "                   random_state=42, verbose=1)"
            ]
          },
          "execution_count": 163,
          "metadata": {},
          "output_type": "execute_result"
        }
      ],
      "source": [
        "rnd_ada.fit(X_train_scaled, y_train)"
      ]
    },
    {
      "cell_type": "code",
      "execution_count": null,
      "id": "ba465b1c",
      "metadata": {
        "id": "ba465b1c",
        "outputId": "99a98dd2-33a4-40b0-9fc2-61d8a588806f"
      },
      "outputs": [
        {
          "name": "stdout",
          "output_type": "stream",
          "text": [
            "Best Coarse Parameters for AdaBoost: {'n_estimators': 400, 'learning_rate': 0.638421052631579}\n",
            "Best Coarse Score for AdaBoost: 0.6506\n"
          ]
        }
      ],
      "source": [
        "best_params_ada = rnd_ada.best_params_\n",
        "best_score_ada = rnd_ada.best_score_\n",
        "print(f\"Best Coarse Parameters for AdaBoost: {best_params_ada}\")\n",
        "print(f\"Best Coarse Score for AdaBoost: {best_score_ada:.4f}\")"
      ]
    },
    {
      "cell_type": "markdown",
      "id": "1b59579a",
      "metadata": {
        "id": "1b59579a"
      },
      "source": [
        "# **AdaBoost - Fine Search**"
      ]
    },
    {
      "cell_type": "code",
      "execution_count": null,
      "id": "4a8c89c5",
      "metadata": {
        "id": "4a8c89c5",
        "outputId": "d3c5dc34-b19e-426e-cdec-cdf092ebfa1c"
      },
      "outputs": [
        {
          "name": "stdout",
          "output_type": "stream",
          "text": [
            "\n",
            "Running AdaBoost Fine Hyperparameter Tuning...\n"
          ]
        }
      ],
      "source": [
        "print(\"\\nRunning AdaBoost Fine Hyperparameter Tuning...\")"
      ]
    },
    {
      "cell_type": "code",
      "execution_count": null,
      "id": "0737bade",
      "metadata": {
        "id": "0737bade",
        "outputId": "4b66adbc-7b38-4f71-b4cd-7bb3f4f1162a"
      },
      "outputs": [
        {
          "name": "stdout",
          "output_type": "stream",
          "text": [
            "Fitting 5 folds for each of 25 candidates, totalling 125 fits\n"
          ]
        },
        {
          "data": {
            "text/html": [
              "<style>#sk-container-id-23 {color: black;}#sk-container-id-23 pre{padding: 0;}#sk-container-id-23 div.sk-toggleable {background-color: white;}#sk-container-id-23 label.sk-toggleable__label {cursor: pointer;display: block;width: 100%;margin-bottom: 0;padding: 0.3em;box-sizing: border-box;text-align: center;}#sk-container-id-23 label.sk-toggleable__label-arrow:before {content: \"▸\";float: left;margin-right: 0.25em;color: #696969;}#sk-container-id-23 label.sk-toggleable__label-arrow:hover:before {color: black;}#sk-container-id-23 div.sk-estimator:hover label.sk-toggleable__label-arrow:before {color: black;}#sk-container-id-23 div.sk-toggleable__content {max-height: 0;max-width: 0;overflow: hidden;text-align: left;background-color: #f0f8ff;}#sk-container-id-23 div.sk-toggleable__content pre {margin: 0.2em;color: black;border-radius: 0.25em;background-color: #f0f8ff;}#sk-container-id-23 input.sk-toggleable__control:checked~div.sk-toggleable__content {max-height: 200px;max-width: 100%;overflow: auto;}#sk-container-id-23 input.sk-toggleable__control:checked~label.sk-toggleable__label-arrow:before {content: \"▾\";}#sk-container-id-23 div.sk-estimator input.sk-toggleable__control:checked~label.sk-toggleable__label {background-color: #d4ebff;}#sk-container-id-23 div.sk-label input.sk-toggleable__control:checked~label.sk-toggleable__label {background-color: #d4ebff;}#sk-container-id-23 input.sk-hidden--visually {border: 0;clip: rect(1px 1px 1px 1px);clip: rect(1px, 1px, 1px, 1px);height: 1px;margin: -1px;overflow: hidden;padding: 0;position: absolute;width: 1px;}#sk-container-id-23 div.sk-estimator {font-family: monospace;background-color: #f0f8ff;border: 1px dotted black;border-radius: 0.25em;box-sizing: border-box;margin-bottom: 0.5em;}#sk-container-id-23 div.sk-estimator:hover {background-color: #d4ebff;}#sk-container-id-23 div.sk-parallel-item::after {content: \"\";width: 100%;border-bottom: 1px solid gray;flex-grow: 1;}#sk-container-id-23 div.sk-label:hover label.sk-toggleable__label {background-color: #d4ebff;}#sk-container-id-23 div.sk-serial::before {content: \"\";position: absolute;border-left: 1px solid gray;box-sizing: border-box;top: 0;bottom: 0;left: 50%;z-index: 0;}#sk-container-id-23 div.sk-serial {display: flex;flex-direction: column;align-items: center;background-color: white;padding-right: 0.2em;padding-left: 0.2em;position: relative;}#sk-container-id-23 div.sk-item {position: relative;z-index: 1;}#sk-container-id-23 div.sk-parallel {display: flex;align-items: stretch;justify-content: center;background-color: white;position: relative;}#sk-container-id-23 div.sk-item::before, #sk-container-id-23 div.sk-parallel-item::before {content: \"\";position: absolute;border-left: 1px solid gray;box-sizing: border-box;top: 0;bottom: 0;left: 50%;z-index: -1;}#sk-container-id-23 div.sk-parallel-item {display: flex;flex-direction: column;z-index: 1;position: relative;background-color: white;}#sk-container-id-23 div.sk-parallel-item:first-child::after {align-self: flex-end;width: 50%;}#sk-container-id-23 div.sk-parallel-item:last-child::after {align-self: flex-start;width: 50%;}#sk-container-id-23 div.sk-parallel-item:only-child::after {width: 0;}#sk-container-id-23 div.sk-dashed-wrapped {border: 1px dashed gray;margin: 0 0.4em 0.5em 0.4em;box-sizing: border-box;padding-bottom: 0.4em;background-color: white;}#sk-container-id-23 div.sk-label label {font-family: monospace;font-weight: bold;display: inline-block;line-height: 1.2em;}#sk-container-id-23 div.sk-label-container {text-align: center;}#sk-container-id-23 div.sk-container {/* jupyter's `normalize.less` sets `[hidden] { display: none; }` but bootstrap.min.css set `[hidden] { display: none !important; }` so we also need the `!important` here to be able to override the default hidden behavior on the sphinx rendered scikit-learn.org. See: https://github.com/scikit-learn/scikit-learn/issues/21755 */display: inline-block !important;position: relative;}#sk-container-id-23 div.sk-text-repr-fallback {display: none;}</style><div id=\"sk-container-id-23\" class=\"sk-top-container\"><div class=\"sk-text-repr-fallback\"><pre>GridSearchCV(cv=5, estimator=AdaBoostRegressor(), n_jobs=-1,\n",
              "             param_grid={&#x27;learning_rate&#x27;: [0.6, 0.62, 0.64, 0.66, 0.68],\n",
              "                         &#x27;n_estimators&#x27;: [375, 385, 400, 415, 425]},\n",
              "             verbose=1)</pre><b>In a Jupyter environment, please rerun this cell to show the HTML representation or trust the notebook. <br />On GitHub, the HTML representation is unable to render, please try loading this page with nbviewer.org.</b></div><div class=\"sk-container\" hidden><div class=\"sk-item sk-dashed-wrapped\"><div class=\"sk-label-container\"><div class=\"sk-label sk-toggleable\"><input class=\"sk-toggleable__control sk-hidden--visually\" id=\"sk-estimator-id-69\" type=\"checkbox\" ><label for=\"sk-estimator-id-69\" class=\"sk-toggleable__label sk-toggleable__label-arrow\">GridSearchCV</label><div class=\"sk-toggleable__content\"><pre>GridSearchCV(cv=5, estimator=AdaBoostRegressor(), n_jobs=-1,\n",
              "             param_grid={&#x27;learning_rate&#x27;: [0.6, 0.62, 0.64, 0.66, 0.68],\n",
              "                         &#x27;n_estimators&#x27;: [375, 385, 400, 415, 425]},\n",
              "             verbose=1)</pre></div></div></div><div class=\"sk-parallel\"><div class=\"sk-parallel-item\"><div class=\"sk-item\"><div class=\"sk-label-container\"><div class=\"sk-label sk-toggleable\"><input class=\"sk-toggleable__control sk-hidden--visually\" id=\"sk-estimator-id-70\" type=\"checkbox\" ><label for=\"sk-estimator-id-70\" class=\"sk-toggleable__label sk-toggleable__label-arrow\">estimator: AdaBoostRegressor</label><div class=\"sk-toggleable__content\"><pre>AdaBoostRegressor()</pre></div></div></div><div class=\"sk-serial\"><div class=\"sk-item\"><div class=\"sk-estimator sk-toggleable\"><input class=\"sk-toggleable__control sk-hidden--visually\" id=\"sk-estimator-id-71\" type=\"checkbox\" ><label for=\"sk-estimator-id-71\" class=\"sk-toggleable__label sk-toggleable__label-arrow\">AdaBoostRegressor</label><div class=\"sk-toggleable__content\"><pre>AdaBoostRegressor()</pre></div></div></div></div></div></div></div></div></div></div>"
            ],
            "text/plain": [
              "GridSearchCV(cv=5, estimator=AdaBoostRegressor(), n_jobs=-1,\n",
              "             param_grid={'learning_rate': [0.6, 0.62, 0.64, 0.66, 0.68],\n",
              "                         'n_estimators': [375, 385, 400, 415, 425]},\n",
              "             verbose=1)"
            ]
          },
          "execution_count": 166,
          "metadata": {},
          "output_type": "execute_result"
        }
      ],
      "source": [
        "ada_params_fine = {\n",
        "    'n_estimators': [375, 385, 400, 415, 425],\n",
        "    'learning_rate': [0.6, 0.62, 0.64, 0.66, 0.68]\n",
        "}\n",
        "\n",
        "fine_search_ada = GridSearchCV(\n",
        "    estimator=AdaBoostRegressor(),\n",
        "    param_grid=ada_params_fine,\n",
        "    cv=5,\n",
        "    n_jobs=-1,\n",
        "    verbose=1\n",
        ")\n",
        "\n",
        "# Fitting the Model\n",
        "fine_search_ada.fit(X_train_scaled, y_train)"
      ]
    },
    {
      "cell_type": "code",
      "execution_count": null,
      "id": "1f64f808",
      "metadata": {
        "id": "1f64f808",
        "outputId": "da586918-8f13-4c8f-ba79-03bec012fc4f"
      },
      "outputs": [
        {
          "name": "stdout",
          "output_type": "stream",
          "text": [
            "\n",
            "Best Fine Parameters for AdaBoost: {'learning_rate': 0.64, 'n_estimators': 415}\n",
            "Best Fine Cross-Validated Score for AdaBoost: 0.9431\n"
          ]
        }
      ],
      "source": [
        "best_params_fine_ada = fine_search_ada.best_params_\n",
        "best_score_fine_ada = fine_search_ada.best_score_\n",
        "print(f\"\\nBest Fine Parameters for AdaBoost: {best_params_fine_ada}\")\n",
        "print(f\"Best Fine Cross-Validated Score for AdaBoost: {best_score_fine_ada:.4f}\")"
      ]
    },
    {
      "cell_type": "markdown",
      "id": "163de5cc",
      "metadata": {
        "id": "163de5cc"
      },
      "source": [
        "**Model Evaluation on Test Set**"
      ]
    },
    {
      "cell_type": "code",
      "execution_count": null,
      "id": "cd36ce48",
      "metadata": {
        "id": "cd36ce48",
        "outputId": "63d2b4a5-aee0-45e6-854a-b4f6c86dbe1b"
      },
      "outputs": [
        {
          "name": "stdout",
          "output_type": "stream",
          "text": [
            "\n",
            "Final R² Score for AdaBoost on Test Set: 0.9400\n"
          ]
        }
      ],
      "source": [
        "best_ada_model = fine_search_ada.best_estimator_\n",
        "y_pred_ada = best_ada_model.predict(X_test_scaled)\n",
        "ada_r2 = r2_score(y_test, y_pred_ada)\n",
        "print(f\"\\nFinal R² Score for AdaBoost on Test Set: {ada_r2:.4f}\")"
      ]
    },
    {
      "cell_type": "markdown",
      "id": "bdd7f1ce",
      "metadata": {
        "id": "bdd7f1ce"
      },
      "source": [
        "# **Gradient Boosting - Coarse Search**"
      ]
    },
    {
      "cell_type": "code",
      "execution_count": null,
      "id": "dbe5130e",
      "metadata": {
        "id": "dbe5130e",
        "outputId": "33368e98-3ce6-4de2-c51e-a216665cb8c3"
      },
      "outputs": [
        {
          "name": "stdout",
          "output_type": "stream",
          "text": [
            "\n",
            "Running Gradient Boosting Coarse Hyperparameter Tuning...\n"
          ]
        }
      ],
      "source": [
        "from sklearn.ensemble import GradientBoostingRegressor\n",
        "from sklearn.model_selection import RandomizedSearchCV, GridSearchCV\n",
        "print(\"\\nRunning Gradient Boosting Coarse Hyperparameter Tuning...\")"
      ]
    },
    {
      "cell_type": "code",
      "execution_count": null,
      "id": "14f60276",
      "metadata": {
        "id": "14f60276"
      },
      "outputs": [],
      "source": [
        "gb_params_coarse = {\n",
        "    'n_estimators': np.arange(50, 501, 50),\n",
        "    'learning_rate': np.linspace(0.01, 0.5, 20),\n",
        "    'max_depth': np.arange(2, 11)\n",
        "}"
      ]
    },
    {
      "cell_type": "code",
      "execution_count": null,
      "id": "e2fb3ebb",
      "metadata": {
        "id": "e2fb3ebb"
      },
      "outputs": [],
      "source": [
        "coarse_search_gb = RandomizedSearchCV(\n",
        "    estimator=GradientBoostingRegressor(),\n",
        "    param_distributions=gb_params_coarse,\n",
        "    n_iter=30,\n",
        "    cv=5,\n",
        "    n_jobs=-1,\n",
        "    verbose=1,\n",
        "    random_state=42\n",
        ")"
      ]
    },
    {
      "cell_type": "code",
      "execution_count": null,
      "id": "e7a6c8ea",
      "metadata": {
        "id": "e7a6c8ea",
        "outputId": "f7ac2896-7241-4c4d-9643-90d95f72ef56"
      },
      "outputs": [
        {
          "name": "stdout",
          "output_type": "stream",
          "text": [
            "Fitting 5 folds for each of 30 candidates, totalling 150 fits\n"
          ]
        },
        {
          "data": {
            "text/html": [
              "<style>#sk-container-id-16 {color: black;}#sk-container-id-16 pre{padding: 0;}#sk-container-id-16 div.sk-toggleable {background-color: white;}#sk-container-id-16 label.sk-toggleable__label {cursor: pointer;display: block;width: 100%;margin-bottom: 0;padding: 0.3em;box-sizing: border-box;text-align: center;}#sk-container-id-16 label.sk-toggleable__label-arrow:before {content: \"▸\";float: left;margin-right: 0.25em;color: #696969;}#sk-container-id-16 label.sk-toggleable__label-arrow:hover:before {color: black;}#sk-container-id-16 div.sk-estimator:hover label.sk-toggleable__label-arrow:before {color: black;}#sk-container-id-16 div.sk-toggleable__content {max-height: 0;max-width: 0;overflow: hidden;text-align: left;background-color: #f0f8ff;}#sk-container-id-16 div.sk-toggleable__content pre {margin: 0.2em;color: black;border-radius: 0.25em;background-color: #f0f8ff;}#sk-container-id-16 input.sk-toggleable__control:checked~div.sk-toggleable__content {max-height: 200px;max-width: 100%;overflow: auto;}#sk-container-id-16 input.sk-toggleable__control:checked~label.sk-toggleable__label-arrow:before {content: \"▾\";}#sk-container-id-16 div.sk-estimator input.sk-toggleable__control:checked~label.sk-toggleable__label {background-color: #d4ebff;}#sk-container-id-16 div.sk-label input.sk-toggleable__control:checked~label.sk-toggleable__label {background-color: #d4ebff;}#sk-container-id-16 input.sk-hidden--visually {border: 0;clip: rect(1px 1px 1px 1px);clip: rect(1px, 1px, 1px, 1px);height: 1px;margin: -1px;overflow: hidden;padding: 0;position: absolute;width: 1px;}#sk-container-id-16 div.sk-estimator {font-family: monospace;background-color: #f0f8ff;border: 1px dotted black;border-radius: 0.25em;box-sizing: border-box;margin-bottom: 0.5em;}#sk-container-id-16 div.sk-estimator:hover {background-color: #d4ebff;}#sk-container-id-16 div.sk-parallel-item::after {content: \"\";width: 100%;border-bottom: 1px solid gray;flex-grow: 1;}#sk-container-id-16 div.sk-label:hover label.sk-toggleable__label {background-color: #d4ebff;}#sk-container-id-16 div.sk-serial::before {content: \"\";position: absolute;border-left: 1px solid gray;box-sizing: border-box;top: 0;bottom: 0;left: 50%;z-index: 0;}#sk-container-id-16 div.sk-serial {display: flex;flex-direction: column;align-items: center;background-color: white;padding-right: 0.2em;padding-left: 0.2em;position: relative;}#sk-container-id-16 div.sk-item {position: relative;z-index: 1;}#sk-container-id-16 div.sk-parallel {display: flex;align-items: stretch;justify-content: center;background-color: white;position: relative;}#sk-container-id-16 div.sk-item::before, #sk-container-id-16 div.sk-parallel-item::before {content: \"\";position: absolute;border-left: 1px solid gray;box-sizing: border-box;top: 0;bottom: 0;left: 50%;z-index: -1;}#sk-container-id-16 div.sk-parallel-item {display: flex;flex-direction: column;z-index: 1;position: relative;background-color: white;}#sk-container-id-16 div.sk-parallel-item:first-child::after {align-self: flex-end;width: 50%;}#sk-container-id-16 div.sk-parallel-item:last-child::after {align-self: flex-start;width: 50%;}#sk-container-id-16 div.sk-parallel-item:only-child::after {width: 0;}#sk-container-id-16 div.sk-dashed-wrapped {border: 1px dashed gray;margin: 0 0.4em 0.5em 0.4em;box-sizing: border-box;padding-bottom: 0.4em;background-color: white;}#sk-container-id-16 div.sk-label label {font-family: monospace;font-weight: bold;display: inline-block;line-height: 1.2em;}#sk-container-id-16 div.sk-label-container {text-align: center;}#sk-container-id-16 div.sk-container {/* jupyter's `normalize.less` sets `[hidden] { display: none; }` but bootstrap.min.css set `[hidden] { display: none !important; }` so we also need the `!important` here to be able to override the default hidden behavior on the sphinx rendered scikit-learn.org. See: https://github.com/scikit-learn/scikit-learn/issues/21755 */display: inline-block !important;position: relative;}#sk-container-id-16 div.sk-text-repr-fallback {display: none;}</style><div id=\"sk-container-id-16\" class=\"sk-top-container\"><div class=\"sk-text-repr-fallback\"><pre>RandomizedSearchCV(cv=5, estimator=GradientBoostingRegressor(), n_iter=30,\n",
              "                   n_jobs=-1,\n",
              "                   param_distributions={&#x27;learning_rate&#x27;: array([0.01      , 0.03578947, 0.06157895, 0.08736842, 0.11315789,\n",
              "       0.13894737, 0.16473684, 0.19052632, 0.21631579, 0.24210526,\n",
              "       0.26789474, 0.29368421, 0.31947368, 0.34526316, 0.37105263,\n",
              "       0.39684211, 0.42263158, 0.44842105, 0.47421053, 0.5       ]),\n",
              "                                        &#x27;max_depth&#x27;: array([ 2,  3,  4,  5,  6,  7,  8,  9, 10]),\n",
              "                                        &#x27;n_estimators&#x27;: array([ 50, 100, 150, 200, 250, 300, 350, 400, 450, 500])},\n",
              "                   random_state=42, verbose=1)</pre><b>In a Jupyter environment, please rerun this cell to show the HTML representation or trust the notebook. <br />On GitHub, the HTML representation is unable to render, please try loading this page with nbviewer.org.</b></div><div class=\"sk-container\" hidden><div class=\"sk-item sk-dashed-wrapped\"><div class=\"sk-label-container\"><div class=\"sk-label sk-toggleable\"><input class=\"sk-toggleable__control sk-hidden--visually\" id=\"sk-estimator-id-46\" type=\"checkbox\" ><label for=\"sk-estimator-id-46\" class=\"sk-toggleable__label sk-toggleable__label-arrow\">RandomizedSearchCV</label><div class=\"sk-toggleable__content\"><pre>RandomizedSearchCV(cv=5, estimator=GradientBoostingRegressor(), n_iter=30,\n",
              "                   n_jobs=-1,\n",
              "                   param_distributions={&#x27;learning_rate&#x27;: array([0.01      , 0.03578947, 0.06157895, 0.08736842, 0.11315789,\n",
              "       0.13894737, 0.16473684, 0.19052632, 0.21631579, 0.24210526,\n",
              "       0.26789474, 0.29368421, 0.31947368, 0.34526316, 0.37105263,\n",
              "       0.39684211, 0.42263158, 0.44842105, 0.47421053, 0.5       ]),\n",
              "                                        &#x27;max_depth&#x27;: array([ 2,  3,  4,  5,  6,  7,  8,  9, 10]),\n",
              "                                        &#x27;n_estimators&#x27;: array([ 50, 100, 150, 200, 250, 300, 350, 400, 450, 500])},\n",
              "                   random_state=42, verbose=1)</pre></div></div></div><div class=\"sk-parallel\"><div class=\"sk-parallel-item\"><div class=\"sk-item\"><div class=\"sk-label-container\"><div class=\"sk-label sk-toggleable\"><input class=\"sk-toggleable__control sk-hidden--visually\" id=\"sk-estimator-id-47\" type=\"checkbox\" ><label for=\"sk-estimator-id-47\" class=\"sk-toggleable__label sk-toggleable__label-arrow\">estimator: GradientBoostingRegressor</label><div class=\"sk-toggleable__content\"><pre>GradientBoostingRegressor()</pre></div></div></div><div class=\"sk-serial\"><div class=\"sk-item\"><div class=\"sk-estimator sk-toggleable\"><input class=\"sk-toggleable__control sk-hidden--visually\" id=\"sk-estimator-id-48\" type=\"checkbox\" ><label for=\"sk-estimator-id-48\" class=\"sk-toggleable__label sk-toggleable__label-arrow\">GradientBoostingRegressor</label><div class=\"sk-toggleable__content\"><pre>GradientBoostingRegressor()</pre></div></div></div></div></div></div></div></div></div></div>"
            ],
            "text/plain": [
              "RandomizedSearchCV(cv=5, estimator=GradientBoostingRegressor(), n_iter=30,\n",
              "                   n_jobs=-1,\n",
              "                   param_distributions={'learning_rate': array([0.01      , 0.03578947, 0.06157895, 0.08736842, 0.11315789,\n",
              "       0.13894737, 0.16473684, 0.19052632, 0.21631579, 0.24210526,\n",
              "       0.26789474, 0.29368421, 0.31947368, 0.34526316, 0.37105263,\n",
              "       0.39684211, 0.42263158, 0.44842105, 0.47421053, 0.5       ]),\n",
              "                                        'max_depth': array([ 2,  3,  4,  5,  6,  7,  8,  9, 10]),\n",
              "                                        'n_estimators': array([ 50, 100, 150, 200, 250, 300, 350, 400, 450, 500])},\n",
              "                   random_state=42, verbose=1)"
            ]
          },
          "execution_count": 133,
          "metadata": {},
          "output_type": "execute_result"
        }
      ],
      "source": [
        "coarse_search_gb.fit(X_train_scaled, y_train)"
      ]
    },
    {
      "cell_type": "code",
      "execution_count": null,
      "id": "d363bddf",
      "metadata": {
        "id": "d363bddf",
        "outputId": "20815ed0-193b-46c0-baf3-51f19ad5c42e"
      },
      "outputs": [
        {
          "name": "stdout",
          "output_type": "stream",
          "text": [
            "\n",
            "Best Coarse Parameters for Gradient Boosting: {'n_estimators': 400, 'max_depth': 8, 'learning_rate': 0.06157894736842105}\n",
            "Best Coarse Score for Gradient Boosting: 0.9994\n"
          ]
        }
      ],
      "source": [
        "best_params_coarse_gb = coarse_search_gb.best_params_\n",
        "best_score_coarse_gb = coarse_search_gb.best_score_\n",
        "print(f\"\\nBest Coarse Parameters for Gradient Boosting: {best_params_coarse_gb}\")\n",
        "print(f\"Best Coarse Score for Gradient Boosting: {best_score_coarse_gb:.4f}\")"
      ]
    },
    {
      "cell_type": "markdown",
      "id": "2e5f1ec4",
      "metadata": {
        "id": "2e5f1ec4"
      },
      "source": [
        "# **Gradient Boosting - Fine Search**"
      ]
    },
    {
      "cell_type": "code",
      "execution_count": null,
      "id": "5ed4cc57",
      "metadata": {
        "id": "5ed4cc57",
        "outputId": "2ba67287-d273-494f-eb4a-66fe3ce0f49c"
      },
      "outputs": [
        {
          "name": "stdout",
          "output_type": "stream",
          "text": [
            "\n",
            "Running Gradient Boosting Fine Hyperparameter Tuning...\n"
          ]
        }
      ],
      "source": [
        "print(\"\\nRunning Gradient Boosting Fine Hyperparameter Tuning...\")"
      ]
    },
    {
      "cell_type": "code",
      "execution_count": null,
      "id": "5c3d1a13",
      "metadata": {
        "id": "5c3d1a13"
      },
      "outputs": [],
      "source": [
        "gb_params_fine = {\n",
        "    'n_estimators': [350, 375, 400, 425, 450],\n",
        "    'learning_rate': [0.05, 0.06, 0.061, 0.065, 0.07],\n",
        "    'max_depth': [6, 7, 8, 9, 10]\n",
        "}"
      ]
    },
    {
      "cell_type": "code",
      "execution_count": null,
      "id": "5ffc45e9",
      "metadata": {
        "id": "5ffc45e9"
      },
      "outputs": [],
      "source": [
        "fine_search_gb = GridSearchCV(\n",
        "    estimator=GradientBoostingRegressor(),\n",
        "    param_grid=gb_params_fine,\n",
        "    cv=5,\n",
        "    n_jobs=-1,\n",
        "    verbose=1\n",
        ")"
      ]
    },
    {
      "cell_type": "code",
      "execution_count": null,
      "id": "c2331079",
      "metadata": {
        "id": "c2331079",
        "outputId": "55d42a27-74b4-4bf6-ccf7-fed2aad6479d"
      },
      "outputs": [
        {
          "name": "stdout",
          "output_type": "stream",
          "text": [
            "Fitting 5 folds for each of 125 candidates, totalling 625 fits\n"
          ]
        },
        {
          "data": {
            "text/html": [
              "<style>#sk-container-id-19 {color: black;}#sk-container-id-19 pre{padding: 0;}#sk-container-id-19 div.sk-toggleable {background-color: white;}#sk-container-id-19 label.sk-toggleable__label {cursor: pointer;display: block;width: 100%;margin-bottom: 0;padding: 0.3em;box-sizing: border-box;text-align: center;}#sk-container-id-19 label.sk-toggleable__label-arrow:before {content: \"▸\";float: left;margin-right: 0.25em;color: #696969;}#sk-container-id-19 label.sk-toggleable__label-arrow:hover:before {color: black;}#sk-container-id-19 div.sk-estimator:hover label.sk-toggleable__label-arrow:before {color: black;}#sk-container-id-19 div.sk-toggleable__content {max-height: 0;max-width: 0;overflow: hidden;text-align: left;background-color: #f0f8ff;}#sk-container-id-19 div.sk-toggleable__content pre {margin: 0.2em;color: black;border-radius: 0.25em;background-color: #f0f8ff;}#sk-container-id-19 input.sk-toggleable__control:checked~div.sk-toggleable__content {max-height: 200px;max-width: 100%;overflow: auto;}#sk-container-id-19 input.sk-toggleable__control:checked~label.sk-toggleable__label-arrow:before {content: \"▾\";}#sk-container-id-19 div.sk-estimator input.sk-toggleable__control:checked~label.sk-toggleable__label {background-color: #d4ebff;}#sk-container-id-19 div.sk-label input.sk-toggleable__control:checked~label.sk-toggleable__label {background-color: #d4ebff;}#sk-container-id-19 input.sk-hidden--visually {border: 0;clip: rect(1px 1px 1px 1px);clip: rect(1px, 1px, 1px, 1px);height: 1px;margin: -1px;overflow: hidden;padding: 0;position: absolute;width: 1px;}#sk-container-id-19 div.sk-estimator {font-family: monospace;background-color: #f0f8ff;border: 1px dotted black;border-radius: 0.25em;box-sizing: border-box;margin-bottom: 0.5em;}#sk-container-id-19 div.sk-estimator:hover {background-color: #d4ebff;}#sk-container-id-19 div.sk-parallel-item::after {content: \"\";width: 100%;border-bottom: 1px solid gray;flex-grow: 1;}#sk-container-id-19 div.sk-label:hover label.sk-toggleable__label {background-color: #d4ebff;}#sk-container-id-19 div.sk-serial::before {content: \"\";position: absolute;border-left: 1px solid gray;box-sizing: border-box;top: 0;bottom: 0;left: 50%;z-index: 0;}#sk-container-id-19 div.sk-serial {display: flex;flex-direction: column;align-items: center;background-color: white;padding-right: 0.2em;padding-left: 0.2em;position: relative;}#sk-container-id-19 div.sk-item {position: relative;z-index: 1;}#sk-container-id-19 div.sk-parallel {display: flex;align-items: stretch;justify-content: center;background-color: white;position: relative;}#sk-container-id-19 div.sk-item::before, #sk-container-id-19 div.sk-parallel-item::before {content: \"\";position: absolute;border-left: 1px solid gray;box-sizing: border-box;top: 0;bottom: 0;left: 50%;z-index: -1;}#sk-container-id-19 div.sk-parallel-item {display: flex;flex-direction: column;z-index: 1;position: relative;background-color: white;}#sk-container-id-19 div.sk-parallel-item:first-child::after {align-self: flex-end;width: 50%;}#sk-container-id-19 div.sk-parallel-item:last-child::after {align-self: flex-start;width: 50%;}#sk-container-id-19 div.sk-parallel-item:only-child::after {width: 0;}#sk-container-id-19 div.sk-dashed-wrapped {border: 1px dashed gray;margin: 0 0.4em 0.5em 0.4em;box-sizing: border-box;padding-bottom: 0.4em;background-color: white;}#sk-container-id-19 div.sk-label label {font-family: monospace;font-weight: bold;display: inline-block;line-height: 1.2em;}#sk-container-id-19 div.sk-label-container {text-align: center;}#sk-container-id-19 div.sk-container {/* jupyter's `normalize.less` sets `[hidden] { display: none; }` but bootstrap.min.css set `[hidden] { display: none !important; }` so we also need the `!important` here to be able to override the default hidden behavior on the sphinx rendered scikit-learn.org. See: https://github.com/scikit-learn/scikit-learn/issues/21755 */display: inline-block !important;position: relative;}#sk-container-id-19 div.sk-text-repr-fallback {display: none;}</style><div id=\"sk-container-id-19\" class=\"sk-top-container\"><div class=\"sk-text-repr-fallback\"><pre>GridSearchCV(cv=5, estimator=GradientBoostingRegressor(), n_jobs=-1,\n",
              "             param_grid={&#x27;learning_rate&#x27;: [0.05, 0.06, 0.061, 0.065, 0.07],\n",
              "                         &#x27;max_depth&#x27;: [6, 7, 8, 9, 10],\n",
              "                         &#x27;n_estimators&#x27;: [350, 375, 400, 425, 450]},\n",
              "             verbose=1)</pre><b>In a Jupyter environment, please rerun this cell to show the HTML representation or trust the notebook. <br />On GitHub, the HTML representation is unable to render, please try loading this page with nbviewer.org.</b></div><div class=\"sk-container\" hidden><div class=\"sk-item sk-dashed-wrapped\"><div class=\"sk-label-container\"><div class=\"sk-label sk-toggleable\"><input class=\"sk-toggleable__control sk-hidden--visually\" id=\"sk-estimator-id-55\" type=\"checkbox\" ><label for=\"sk-estimator-id-55\" class=\"sk-toggleable__label sk-toggleable__label-arrow\">GridSearchCV</label><div class=\"sk-toggleable__content\"><pre>GridSearchCV(cv=5, estimator=GradientBoostingRegressor(), n_jobs=-1,\n",
              "             param_grid={&#x27;learning_rate&#x27;: [0.05, 0.06, 0.061, 0.065, 0.07],\n",
              "                         &#x27;max_depth&#x27;: [6, 7, 8, 9, 10],\n",
              "                         &#x27;n_estimators&#x27;: [350, 375, 400, 425, 450]},\n",
              "             verbose=1)</pre></div></div></div><div class=\"sk-parallel\"><div class=\"sk-parallel-item\"><div class=\"sk-item\"><div class=\"sk-label-container\"><div class=\"sk-label sk-toggleable\"><input class=\"sk-toggleable__control sk-hidden--visually\" id=\"sk-estimator-id-56\" type=\"checkbox\" ><label for=\"sk-estimator-id-56\" class=\"sk-toggleable__label sk-toggleable__label-arrow\">estimator: GradientBoostingRegressor</label><div class=\"sk-toggleable__content\"><pre>GradientBoostingRegressor()</pre></div></div></div><div class=\"sk-serial\"><div class=\"sk-item\"><div class=\"sk-estimator sk-toggleable\"><input class=\"sk-toggleable__control sk-hidden--visually\" id=\"sk-estimator-id-57\" type=\"checkbox\" ><label for=\"sk-estimator-id-57\" class=\"sk-toggleable__label sk-toggleable__label-arrow\">GradientBoostingRegressor</label><div class=\"sk-toggleable__content\"><pre>GradientBoostingRegressor()</pre></div></div></div></div></div></div></div></div></div></div>"
            ],
            "text/plain": [
              "GridSearchCV(cv=5, estimator=GradientBoostingRegressor(), n_jobs=-1,\n",
              "             param_grid={'learning_rate': [0.05, 0.06, 0.061, 0.065, 0.07],\n",
              "                         'max_depth': [6, 7, 8, 9, 10],\n",
              "                         'n_estimators': [350, 375, 400, 425, 450]},\n",
              "             verbose=1)"
            ]
          },
          "execution_count": 148,
          "metadata": {},
          "output_type": "execute_result"
        }
      ],
      "source": [
        "fine_search_gb.fit(X_train_scaled, y_train)"
      ]
    },
    {
      "cell_type": "code",
      "execution_count": null,
      "id": "49f76615",
      "metadata": {
        "id": "49f76615",
        "outputId": "03911f1e-4815-46ff-a8a7-f180f385aa53"
      },
      "outputs": [
        {
          "name": "stdout",
          "output_type": "stream",
          "text": [
            "Best Fine Parameters for Gradient Boosting: {'learning_rate': 0.061, 'max_depth': 8, 'n_estimators': 450}\n",
            "Best Fine Cross-Validated Score for Gradient Boosting: 0.9994\n"
          ]
        }
      ],
      "source": [
        "best_params_fine_gb = fine_search_gb.best_params_\n",
        "best_score_fine_gb = fine_search_gb.best_score_\n",
        "print(f\"Best Fine Parameters for Gradient Boosting: {best_params_fine_gb}\")\n",
        "print(f\"Best Fine Cross-Validated Score for Gradient Boosting: {best_score_fine_gb:.4f}\")"
      ]
    },
    {
      "cell_type": "markdown",
      "id": "c69247b7",
      "metadata": {
        "id": "c69247b7"
      },
      "source": [
        "**Model Evaluation on Test Set**"
      ]
    },
    {
      "cell_type": "code",
      "execution_count": null,
      "id": "6ce2219b",
      "metadata": {
        "id": "6ce2219b",
        "outputId": "ad9b0914-0a11-4b5c-a881-080eb6260269"
      },
      "outputs": [
        {
          "name": "stdout",
          "output_type": "stream",
          "text": [
            "Final R² Score for Gradient Boosting on Test Set: 0.9997\n"
          ]
        }
      ],
      "source": [
        "best_gb_model = fine_search_gb.best_estimator_\n",
        "y_pred_gb = best_gb_model.predict(X_test_scaled)\n",
        "gb_r2 = r2_score(y_test, y_pred_gb)\n",
        "print(f\"Final R² Score for Gradient Boosting on Test Set: {gb_r2:.4f}\")"
      ]
    },
    {
      "cell_type": "markdown",
      "id": "5b63d46a",
      "metadata": {
        "id": "5b63d46a"
      },
      "source": [
        "# ***Performance of all the models***"
      ]
    },
    {
      "cell_type": "code",
      "execution_count": null,
      "id": "35933a27",
      "metadata": {
        "id": "35933a27",
        "outputId": "d6269282-374e-41f5-cb83-a6213edbd482"
      },
      "outputs": [
        {
          "data": {
            "image/png": "[encoded data removed]",
            "text/plain": [
              "<Figure size 1200x800 with 1 Axes>"
            ]
          },
          "metadata": {},
          "output_type": "display_data"
        }
      ],
      "source": [
        "#All Model Names\n",
        "models = ['Baseline', 'SVR (RBF Kernel)', 'Random Forest', 'AdaBoost', 'Gradient Boosting']\n",
        "\n",
        "# Model R² Scores\n",
        "scores = [r2_Score_scaled, svr_r2, rf_r2, ada_r2, gb_r2]\n",
        "\n",
        "bar_colors = ['steelblue', 'darkorange', 'forestgreen', 'firebrick', 'mediumpurple']\n",
        "\n",
        "plt.figure(figsize=(12, 8))\n",
        "plt.bar(models, scores, color=bar_colors)\n",
        "plt.title('Model Performance Comparison', fontsize=18, fontweight='bold')\n",
        "plt.xlabel('Model Type', fontsize=14)\n",
        "plt.ylabel('R² Score', fontsize=14)\n",
        "\n",
        "# To display scores on top of each bar\n",
        "for i, score in enumerate(scores):\n",
        "    plt.text(i, score + 0.01, f\"{score:.4f}\", ha='center', fontsize=12, fontweight='bold')\n",
        "\n",
        "plt.show()"
      ]
    },
    {
      "cell_type": "code",
      "execution_count": null,
      "id": "8a6406c2",
      "metadata": {
        "id": "8a6406c2",
        "outputId": "e809a0b8-4cb4-490f-9dab-98a548a30533"
      },
      "outputs": [
        {
          "data": {
            "image/png": "[encoded data removed]",
            "text/plain": [
              "<Figure size 1600x1000 with 1 Axes>"
            ]
          },
          "metadata": {},
          "output_type": "display_data"
        }
      ],
      "source": [
        "# All Model Names\n",
        "models = [\n",
        "    \"Baseline (Linear Regression)\",\n",
        "    \"Random Search SVM (RBF)\", \"Grid Search SVM (RBF)\",\n",
        "    \"Random Search Random Forest\", \"Grid Search Random Forest\",\n",
        "    \"Random Search AdaBoost\", \"Grid Search AdaBoost\",\n",
        "    \"Random Search Gradient Boosting\", \"Grid Search Gradient Boosting\"\n",
        "]\n",
        "\n",
        "# All Model CV Scores\n",
        "scores = [\n",
        "    r2_Score_scaled,  # Baseline (Linear Regression)\n",
        "    best_score_svm, best_score_fine_svr,  # SVM (RBF)\n",
        "    best_score_rf, best_score_fine_rf,  # Random Forest\n",
        "    best_score_ada, best_score_fine_ada,  # AdaBoost\n",
        "    best_score_coarse_gb, best_score_fine_gb  # Gradient Boosting\n",
        "]\n",
        "\n",
        "bar_colors = [\n",
        "    'steelblue',  # Baseline\n",
        "    'darkorange', 'sandybrown',  # SVM (RBF)\n",
        "    'forestgreen', 'limegreen',  # Random Forest\n",
        "    'firebrick', 'lightcoral',  # AdaBoost\n",
        "    'mediumpurple', 'plum'  # Gradient Boosting\n",
        "]\n",
        "\n",
        "plt.figure(figsize=(16, 10))\n",
        "plt.barh(models, scores, color=bar_colors)\n",
        "plt.title('Model Performance Comparison (Coarse and Fine)', fontsize=22, fontweight='bold')\n",
        "plt.xlabel('Cross-validated Score', fontsize=16)\n",
        "plt.ylabel('Models', fontsize=16)\n",
        "\n",
        "# To display scores on top of each bar\n",
        "for i, score in enumerate(scores):\n",
        "    plt.text(score + 0.002, i, f\"{score:.4f}\", ha='left', fontsize=12, fontweight='bold')\n",
        "\n",
        "plt.xlim(0.6, 1.05)\n",
        "plt.grid(axis='x', linestyle='--', alpha=0.7)\n",
        "plt.show()\n"
      ]
    }
  ],
  "metadata": {
    "kernelspec": {
      "display_name": "base",
      "language": "python",
      "name": "python3"
    },
    "language_info": {
      "codemirror_mode": {
        "name": "ipython",
        "version": 3
      },
      "file_extension": ".py",
      "mimetype": "text/x-python",
      "name": "python",
      "nbconvert_exporter": "python",
      "pygments_lexer": "ipython3",
      "version": "3.11.5"
    },
    "colab": {
      "provenance": []
    }
  },
  "nbformat": 4,
  "nbformat_minor": 5
}
